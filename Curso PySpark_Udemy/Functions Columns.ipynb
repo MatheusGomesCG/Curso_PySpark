{
 "cells": [
  {
   "cell_type": "code",
   "execution_count": 1,
   "id": "2a7fb6a6-25c5-4779-9626-5012d2217cb3",
   "metadata": {},
   "outputs": [
    {
     "name": "stdout",
     "output_type": "stream",
     "text": [
      "Requirement already satisfied: pyspark in /home/casa/anaconda3/lib/python3.11/site-packages (3.3.2)\n",
      "Requirement already satisfied: findspark in /home/casa/anaconda3/lib/python3.11/site-packages (2.0.1)\n",
      "Requirement already satisfied: py4j==0.10.9.5 in /home/casa/anaconda3/lib/python3.11/site-packages (from pyspark) (0.10.9.5)\n"
     ]
    }
   ],
   "source": [
    "!pip install pyspark findspark"
   ]
  },
  {
   "cell_type": "code",
   "execution_count": 2,
   "id": "d86b6eca-2f0c-4d6e-ac91-a0b49270e3aa",
   "metadata": {},
   "outputs": [],
   "source": [
    "import findspark\n",
    "findspark.init()"
   ]
  },
  {
   "cell_type": "code",
   "execution_count": 3,
   "id": "62adaf63-04e3-46aa-86fd-f5d1422ec550",
   "metadata": {},
   "outputs": [],
   "source": [
    "from pyspark.sql import SparkSession\n",
    "import pyspark.sql.functions as F"
   ]
  },
  {
   "cell_type": "code",
   "execution_count": null,
   "id": "6556ead6-0b01-44fe-afb5-2e72dd2562b0",
   "metadata": {},
   "outputs": [],
   "source": [
    "spark = (\n",
    "    SparkSession.builder.master('local[*]')\n",
    "    .appName('Aula 21 Curso')\n",
    "    .config('spark.sql.legacy.timeParserPolicy', 'LEGACY')\n",
    "    .getOrCreate()"
   ]
  },
  {
   "cell_type": "code",
   "execution_count": null,
   "id": "32bb130c-881d-410d-a029-39ad147091fa",
   "metadata": {},
   "outputs": [],
   "source": [
    "spark"
   ]
  },
  {
   "cell_type": "code",
   "execution_count": 6,
   "id": "20288b8f-3f1c-44c9-85c8-955787afc2c8",
   "metadata": {},
   "outputs": [
    {
     "name": "stdout",
     "output_type": "stream",
     "text": [
      "+--------------+--------------------+----------+------------------+------+-------------+---------------+------------+--------------------+-------------------+\n",
      "|           cpf|               email|     senha|data_de_nascimento|estado|data_cadastro|           ipv4|cor_favorita|           profissao|           telefone|\n",
      "+--------------+--------------------+----------+------------------+------+-------------+---------------+------------+--------------------+-------------------+\n",
      "|981.507.362-12|pedro-lucas53@gma...|+7^7E%xFBc|        2006-12-18|    RR|   2023-02-26| 99.107.250.210|        Roxo|    Jogador De Golfe|       31 7785-4046|\n",
      "|493.705.168-75|rezendeisaac@hotm...|_O_2GRnGOe|        1992-06-17|    GO|   2023-02-16|  197.11.26.213|       Ciano|Atleta De Arremes...|    (031) 0803-6753|\n",
      "|398.471.625-73|felipepires@uol.c...|*Aw5EOAvy9|        1921-11-11|    MG|   2023-01-02|   181.90.63.58|        Azul|      Papiloscopista|       11 9674-0553|\n",
      "|092.618.354-06|stellamoraes@bol....|mw0AWYAs#s|        2021-06-01|    AC|   2023-01-08|  26.121.127.94|      Marrom|            Aeromoça|+55 (071) 3033 9177|\n",
      "|509.427.136-99| wcarvalho@ig.com.br|pGD%!2Pq5X|        1969-10-28|    AP|   2023-02-14|  76.184.52.163|     Laranja|       Fonoaudiólogo|+55 (071) 6272 2468|\n",
      "|218.795.460-94|da-conceicaodavi-...|uhBbFxPA&9|        1986-05-19|    MG|   2023-03-07|    192.93.0.24|        Rosa|             Taxista|   +55 84 0652 9691|\n",
      "|715.836.940-48| efreitas@bol.com.br|s#q9VZt&xl|        2018-04-20|    MG|   2023-01-13| 76.251.188.148|      Branco|Produtor De Audio...|+55 (084) 1363 0052|\n",
      "|475.698.032-56|   wnunes@bol.com.br|_8az1W%n7g|        1996-05-12|    SE|   2023-02-04|139.196.176.154|        Azul|          Cadeirinha|    (071) 1640-3388|\n",
      "|217.639.540-99| jribeiro@bol.com.br|MEf1X7fj_0|        2021-10-05|    PA|   2023-03-02|    71.22.224.5|      Marrom|             Geólogo|       21 1432 4092|\n",
      "|261.938.750-77|  murilo05@gmail.com|Te&gO7GkKs|        1917-01-05|    MT|   2023-02-21| 136.54.123.165|      Marrom|      Técnico De Som|+55 (084) 5878-3346|\n",
      "|520.831.796-68| joaquim57@ig.com.br|&2E1NY+ARc|        1912-05-25|    BA|   2023-01-25| 78.196.255.126|        Rosa|         Esteticista|       41 7914-3753|\n",
      "|413.087.526-44|alexiada-rocha@ig...|@f@!Z!2c*2|        1920-05-26|    MS|   2023-02-18|  182.61.65.201|     Laranja|        Microfonista|    (021) 3739-2944|\n",
      "|509.287.143-14|   pmendes@gmail.com|M+^XDBfe(2|        1938-03-11|    RR|   2023-01-19|  61.234.208.17| Verde Claro|              Fiscal|+55 (084) 5940-1932|\n",
      "|563.170.492-70|  renan46@bol.com.br|Rp%2pVqfe$|        1922-09-01|    PA|   2023-02-01| 122.203.83.177|Verde Escuro|        Contabilista|   +55 41 6248 5773|\n",
      "|098.712.346-78|manuelada-rosa@ho...|#hEIEOztQ3|        2013-01-10|    SE|   2023-01-07|  175.18.73.211|     Violeta| Seguidor De Compras|       51 0278 0564|\n",
      "|345.709.261-34|    usales@ig.com.br|b_8xaY$ozJ|        1992-10-16|    AM|   2023-01-05|    97.93.29.75|        Rosa|           Almirante|    (084) 8993-4521|\n",
      "|318.254.906-51|pereiranicolas@ho...|YA9I85Wb+2|        1945-11-18|    MA|   2023-01-24| 182.195.33.137|     Amarelo|   Consultor De Moda|    (084) 4591 3795|\n",
      "|610.287.453-62|cardosolivia@ig.c...|yXkDW7Ebh*|        1915-11-15|    GO|   2023-01-22| 195.194.63.184|     Laranja|            Barbeiro|   +55 61 8967-9563|\n",
      "|615.790.842-49|  brenda39@ig.com.br|XS$84Hpsnw|        1964-02-01|    RJ|   2023-02-16|  21.252.226.29|      Branco|  Promotor De Vendas|+55 (021) 4751 2004|\n",
      "|624.095.138-24|luizapeixoto@gmai...|TbKy82Kda$|        1959-02-01|    DF|   2023-02-25|  105.107.23.13|       Ciano|    Implantodontista|       84 1293 1906|\n",
      "+--------------+--------------------+----------+------------------+------+-------------+---------------+------------+--------------------+-------------------+\n",
      "only showing top 20 rows\n",
      "\n"
     ]
    }
   ],
   "source": [
    "df = spark.read.parquet('./DATASETS/LOGINS.parquet')\n",
    "df.show()"
   ]
  },
  {
   "cell_type": "code",
   "execution_count": 32,
   "id": "6e89f7db-0165-469d-a150-47655ca39679",
   "metadata": {},
   "outputs": [
    {
     "name": "stdout",
     "output_type": "stream",
     "text": [
      "+--------------+--------------------+----------+------------------+------+-------------+---------------+------------+--------------------+-------------------+----+\n",
      "|           cpf|               email|     senha|data_de_nascimento|estado|data_cadastro|           ipv4|cor_favorita|           profissao|           telefone| tel|\n",
      "+--------------+--------------------+----------+------------------+------+-------------+---------------+------------+--------------------+-------------------+----+\n",
      "|615.790.842-49|  brenda39@ig.com.br|XS$84Hpsnw|        1964-02-01|    RJ|   2023-02-16|  21.252.226.29|      Branco|  Promotor De Vendas|+55 (021) 4751 2004|null|\n",
      "|573.619.804-57| hnogueira@ig.com.br|&9Ejtll$PF|        1949-03-06|    SP|   2023-01-27|168.162.247.252|       Cinza|Instalador De Lin...|    (031) 9148 3933|null|\n",
      "|734.801.926-96|pedro-miguel43@bo...|*72CCJdxX0|        1965-09-14|    SP|   2023-02-22| 222.145.189.67|        Roxo|               Coach|       51 9026 3441|null|\n",
      "|869.072.315-30|luiz-gustavorocha...|$62UN05c(9|        1980-10-19|    SP|   2023-01-04|  53.167.75.100| Verde Claro|Lactarista Hospit...|   +55 31 1296 8466|null|\n",
      "|384.716.209-87|talmeida@hotmail.com|k8IP9(Kz_v|        1955-04-23|    RJ|   2023-03-06|120.159.158.101|     Violeta|Catador De Materi...|+55 (051) 5573 2964|null|\n",
      "|291.358.407-14| lavinia54@ig.com.br|NyI@+8Kd!1|        1982-01-28|    SP|   2023-02-26|   79.132.46.55|       Preto|Profissional De R...|   +55 51 5526 8284|null|\n",
      "|460.125.983-51|  lazevedo@gmail.com|uC0O7QdE&B|        1972-07-14|    SP|   2023-01-24|221.155.104.128|       Preto|Atleta De Arremes...|   +55 71 9251-1645|null|\n",
      "|837.410.256-07|martinsmaysa@bol....|(Z8RNs%un6|        1972-08-21|    SP|   2023-02-24|157.119.230.252|       Cinza|       Laboratorista|+55 (084) 4945-6200|null|\n",
      "|730.184.526-07|    fviana@ig.com.br|1(3oLDln$8|        1938-10-23|    SP|   2023-03-02|  99.31.171.138|Verde Escuro|Profissional De I...|      0900-429-5628|null|\n",
      "|248.376.051-17|  dmoura@hotmail.com|k7&TpiJa%b|        2022-09-01|    RJ|   2023-02-25|   84.59.19.142|      Branco| Jogador De Handebol|+55 (021) 3753-6334|null|\n",
      "|542.719.036-80|maria-luiza65@uol...|3)Uv_W0j(!|        1982-07-26|    RJ|   2023-01-18|  187.98.240.67|        Rosa|           Diplomata|+55 (021) 7739-9396|null|\n",
      "|874.092.613-31|bruno71@yahoo.com.br|HF1FfNe5&H|        1946-11-25|    SP|   2023-03-03|   14.80.253.67|     Violeta|         Confeiteiro|    (084) 0687-3775|null|\n",
      "|325.047.689-74|emanuella26@gmail...|r7pQOb%l)O|        1944-05-13|    RJ|   2023-02-19|157.219.232.212|        Roxo|         Kite-Surfer|    (041) 2315 8540|null|\n",
      "|490.372.518-97|castrocatarina@gm...|8hQ)9EiVZP|        1983-06-10|    SP|   2023-01-21|  5.188.180.112| Azul Escuro|        Epidemiólogo|       61 5994-2692|null|\n",
      "|765.430.982-10|gabrielcunha@bol....|*de30DhmcY|        2002-05-23|    RJ|   2023-01-19|   10.158.51.13|Verde Escuro|              Camelô|+55 (011) 6838 1339|null|\n",
      "|065.879.124-94|moreiraisabel@hot...|t+3h0Usq#E|        2001-05-02|    RJ|   2023-02-22|  90.107.110.81|        Azul|             Capataz|   +55 81 4097 2278|null|\n",
      "|281.465.937-55| smoreira@uol.com.br|mj9W(cda0%|        1920-10-17|    RJ|   2023-02-18|  164.98.61.242|       Verde|           Escoteiro|   +55 51 9615 2486|null|\n",
      "|970.182.634-50|limapedro-henriqu...|&yMB4Axn4P|        1970-04-26|    RJ|   2023-01-16| 19.244.177.143|      Branco|    Produtor Musical|       71 2253-3903|null|\n",
      "|914.528.630-24|da-cruzjoaquim@gm...|v#o7OgfF&4|        1951-01-03|    SP|   2023-01-01|  82.252.94.185|       Cinza|           Ombudsman|    (031) 4940-4068|null|\n",
      "|305.768.142-53|  ocorreia@ig.com.br|&w4EZmC4I&|        1987-11-01|    SP|   2023-01-21|  5.228.186.166|       Verde|Administrador Púb...|    (051) 9858-2959|null|\n",
      "+--------------+--------------------+----------+------------------+------+-------------+---------------+------------+--------------------+-------------------+----+\n",
      "only showing top 20 rows\n",
      "\n"
     ]
    }
   ],
   "source": [
    "(\n",
    "    df\n",
    "    .withColumn('tel', F.regexp_replace('telefone', ' ', '').cast('int'))\n",
    "    # .orderBy(F.col('tel'))\n",
    "    # .orderBy(F.asc_nulls_first('tel'))\n",
    "    # .orderBy(F.asc_nulls_last('tel'))\n",
    "    # .where(F.year('data_de_nascimento').between(2010, 2015))\n",
    "    # .where(F.col('email').contains('joao')) # que contém a palavra joao\n",
    "    # .where(F.col('email').endswith('.br')) # termina com '.br'\n",
    "    # .where(F.col('email').startswith('d')) # começa com a letra 'd'\n",
    "    # .where(F.col('estado').isin('SP', 'RJ')) #retorna todos os valores dentro do isin\n",
    "    # .where(F.col('tel').isNull()) #retorna todos os valores nulos\n",
    "    # .where(F.col('tel').isNotNull()) # retorna todos os valores não nulos\n",
    "    # .where(~F.col('tel').isNotNull()) # o '~' retorna a negação\n",
    "    .show(20)\n",
    ")"
   ]
  },
  {
   "cell_type": "code",
   "execution_count": 8,
   "id": "4a474552-acf5-42c3-946c-8492c0b8f3d3",
   "metadata": {},
   "outputs": [
    {
     "name": "stdout",
     "output_type": "stream",
     "text": [
      "root\n",
      " |-- cpf: string (nullable = true)\n",
      " |-- email: string (nullable = true)\n",
      " |-- senha: string (nullable = true)\n",
      " |-- data_de_nascimento: date (nullable = true)\n",
      " |-- estado: string (nullable = true)\n",
      " |-- data_cadastro: date (nullable = true)\n",
      " |-- ipv4: string (nullable = true)\n",
      " |-- cor_favorita: string (nullable = true)\n",
      " |-- profissao: string (nullable = true)\n",
      " |-- telefone: string (nullable = true)\n",
      "\n"
     ]
    }
   ],
   "source": [
    "df.printSchema()"
   ]
  },
  {
   "cell_type": "code",
   "execution_count": null,
   "id": "e26817df-e730-4c20-8683-67ba123ef367",
   "metadata": {},
   "outputs": [],
   "source": []
  }
 ],
 "metadata": {
  "kernelspec": {
   "display_name": "Python 3 (ipykernel)",
   "language": "python",
   "name": "python3"
  },
  "language_info": {
   "codemirror_mode": {
    "name": "ipython",
    "version": 3
   },
   "file_extension": ".py",
   "mimetype": "text/x-python",
   "name": "python",
   "nbconvert_exporter": "python",
   "pygments_lexer": "ipython3",
   "version": "3.11.7"
  }
 },
 "nbformat": 4,
 "nbformat_minor": 5
}
