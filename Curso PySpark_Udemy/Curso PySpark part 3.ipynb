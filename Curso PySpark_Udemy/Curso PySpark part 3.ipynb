{
 "cells": [
  {
   "cell_type": "code",
   "execution_count": 1,
   "id": "49700f54-21b4-4d21-b2be-0c78e745cdb8",
   "metadata": {},
   "outputs": [
    {
     "name": "stdout",
     "output_type": "stream",
     "text": [
      "Requirement already satisfied: pyspark in /home/casa/anaconda3/lib/python3.11/site-packages (3.3.2)\n",
      "Requirement already satisfied: findspark in /home/casa/anaconda3/lib/python3.11/site-packages (2.0.1)\n",
      "Requirement already satisfied: py4j==0.10.9.5 in /home/casa/anaconda3/lib/python3.11/site-packages (from pyspark) (0.10.9.5)\n"
     ]
    }
   ],
   "source": [
    "!pip install pyspark findspark"
   ]
  },
  {
   "cell_type": "code",
   "execution_count": 3,
   "id": "7780707d-d764-4337-8519-1dc734dbdebc",
   "metadata": {},
   "outputs": [],
   "source": [
    "import findspark\n",
    "findspark.init()"
   ]
  },
  {
   "cell_type": "code",
   "execution_count": 6,
   "id": "0209ab07-e0bb-48f9-83c6-9e2a205e0dba",
   "metadata": {},
   "outputs": [],
   "source": [
    "from pyspark.sql import SparkSession\n",
    "import pyspark.sql.functions as F\n",
    "\n",
    "spark = (\n",
    "    SparkSession.builder.master('local[*]')\n",
    "    .appName('Curso PySpark 02')\n",
    "    .config('spark.sql.legacy.timeParserPolicy', 'LEGACY')\n",
    "    .getOrCreate()\n",
    ")"
   ]
  },
  {
   "cell_type": "code",
   "execution_count": 5,
   "id": "2948ff89-1f1f-4937-98cb-679b468213ac",
   "metadata": {},
   "outputs": [
    {
     "data": {
      "text/html": [
       "\n",
       "            <div>\n",
       "                <p><b>SparkSession - in-memory</b></p>\n",
       "                \n",
       "        <div>\n",
       "            <p><b>SparkContext</b></p>\n",
       "\n",
       "            <p><a href=\"http://192.168.0.9:4041\">Spark UI</a></p>\n",
       "\n",
       "            <dl>\n",
       "              <dt>Version</dt>\n",
       "                <dd><code>v3.3.2</code></dd>\n",
       "              <dt>Master</dt>\n",
       "                <dd><code>local[*]</code></dd>\n",
       "              <dt>AppName</dt>\n",
       "                <dd><code>Curso PySpark 02</code></dd>\n",
       "            </dl>\n",
       "        </div>\n",
       "        \n",
       "            </div>\n",
       "        "
      ],
      "text/plain": [
       "<pyspark.sql.session.SparkSession at 0x7120c20ecb50>"
      ]
     },
     "execution_count": 5,
     "metadata": {},
     "output_type": "execute_result"
    }
   ],
   "source": [
    "spark"
   ]
  },
  {
   "cell_type": "code",
   "execution_count": 7,
   "id": "d8c0753f-145c-4406-8de1-f9ab4be03023",
   "metadata": {},
   "outputs": [],
   "source": [
    "df = spark.read.parquet('./DATASETS/LOGINS.parquet')"
   ]
  },
  {
   "cell_type": "code",
   "execution_count": 24,
   "id": "d6f31a27-5624-47f0-8b28-b59f14422807",
   "metadata": {},
   "outputs": [
    {
     "name": "stdout",
     "output_type": "stream",
     "text": [
      "+--------------+-----------------------------+----------+------------------+------+-------------+---------------+------------+-------------------------------+-------------------+\n",
      "|cpf           |email                        |senha     |data_de_nascimento|estado|data_cadastro|ipv4           |cor_favorita|profissao                      |telefone           |\n",
      "+--------------+-----------------------------+----------+------------------+------+-------------+---------------+------------+-------------------------------+-------------------+\n",
      "|794.623.805-38|ymoura@gmail.com             |*bZGnLObY0|1946-05-30        |AC    |2023-01-02   |22.66.90.218   |Azul Escuro |Investigador Particular        |(051) 4288 6754    |\n",
      "|573.809.621-59|novaesana-julia@hotmail.com  |DfbV7W1^&4|1972-08-15        |AC    |2023-01-04   |208.213.179.222|Laranja     |Tecelão                        |+55 (031) 6916 9086|\n",
      "|340.879.561-48|ana-vitoria98@gmail.com      |i0_lIkL9)P|1994-08-12        |AC    |2023-01-04   |121.45.91.188  |Marrom      |Gestor De Recursos Humanos     |0300 277 1989      |\n",
      "|032.185.976-68|benjaminda-paz@ig.com.br     |(9l1UVIkot|1966-12-12        |AC    |2023-01-06   |2.186.91.148   |Azul Escuro |Ator                           |+55 51 8053 7792   |\n",
      "|471.980.623-69|usales@gmail.com             |d^Q%6WjKqH|1958-04-06        |AC    |2023-01-08   |97.110.23.119  |Branco      |Administrador                  |(071) 7881 3570    |\n",
      "|069.382.471-96|bernardo78@gmail.com         |2oQQtOOW!5|2003-10-11        |AC    |2023-01-08   |153.126.72.36  |Roxo        |Major                          |61 8633 7694       |\n",
      "|092.618.354-06|stellamoraes@bol.com.br      |mw0AWYAs#s|2021-06-01        |AC    |2023-01-08   |26.121.127.94  |Marrom      |Aeromoça                       |+55 (071) 3033 9177|\n",
      "|852.637.194-00|miguel01@gmail.com           |*0H6kcApJz|1980-01-26        |AC    |2023-01-11   |54.56.177.130  |Marrom      |Político                       |(041) 7434-8164    |\n",
      "|761.208.953-02|joanada-costa@uol.com.br     |K59n!CGwZ+|1970-04-01        |AC    |2023-01-14   |130.246.237.68 |Rosa        |Engenheiro Petroquímico        |0500 075 5159      |\n",
      "|789.604.513-39|ana-sophia73@uol.com.br      |5N^x%@Bw!j|1973-03-09        |AC    |2023-01-18   |144.86.229.3   |Azul        |Produtor Musical               |+55 (061) 7367 9582|\n",
      "|613.948.520-70|julia44@gmail.com            |&asN*lDI2f|1992-07-06        |AC    |2023-01-18   |182.219.231.186|Branco      |Manicure                       |+55 21 9340 4355   |\n",
      "|791.534.862-00|melissacavalcanti@hotmail.com|VIF7Lx2G$+|1919-02-24        |AC    |2023-01-22   |11.72.46.60    |Azul        |Obstetra                       |0500-547-3522      |\n",
      "|803.697.254-92|da-luzjoana@gmail.com        |*ubv^RIl+8|1977-03-30        |AC    |2023-01-23   |204.226.56.149 |Marrom      |Fisioterapeuta                 |(084) 9169-7053    |\n",
      "|127.643.985-73|emoraes@ig.com.br            |!J6u!cSjPW|1988-09-13        |AC    |2023-01-28   |18.170.136.154 |Preto       |Quiropraxista                  |+55 81 0646 7649   |\n",
      "|640.819.273-40|ccampos@yahoo.com.br         |2(1Zl@#aZT|2010-06-10        |AC    |2023-01-28   |115.38.244.24  |Azul        |Pedicure                       |+55 71 9382-8891   |\n",
      "|136.905.427-07|rrocha@hotmail.com           |NT7kF(gv%K|1951-06-08        |AC    |2023-01-29   |45.239.135.110 |Preto       |Taxidermista/Embalsamador      |+55 (051) 5854 6525|\n",
      "|428.653.907-56|benjamin68@gmail.com         |AC2Ygssr(1|1937-03-26        |AC    |2023-01-30   |60.134.117.62  |Preto       |Tecnólogo Em Rochas Ornamentais|+55 81 4441 2349   |\n",
      "|107.896.452-11|noliveira@ig.com.br          |_yz7O!TmJ)|1983-04-18        |AC    |2023-02-01   |40.237.149.73  |Azul Escuro |Diplomata                      |+55 61 8031 9299   |\n",
      "|864.503.712-26|paulo28@hotmail.com          |$5ZpxaKOg1|1927-07-07        |AC    |2023-02-02   |180.32.36.194  |Azul Escuro |Alpinista                      |41 8376-1717       |\n",
      "|195.047.632-43|ramoseduarda@yahoo.com.br    |_9$Vtn5A(E|1976-07-22        |AC    |2023-02-03   |58.217.210.56  |Branco      |Engenheiro Acústico            |61 6019-9240       |\n",
      "+--------------+-----------------------------+----------+------------------+------+-------------+---------------+------------+-------------------------------+-------------------+\n",
      "only showing top 20 rows\n",
      "\n"
     ]
    }
   ],
   "source": [
    "(\n",
    "    df\n",
    "    .orderBy(F.col('estado'), F.col('data_cadastro'))\n",
    "    .show(20, False)\n",
    ")"
   ]
  },
  {
   "cell_type": "code",
   "execution_count": 45,
   "id": "a3ded04e-9892-428f-8796-c3d6e39bebb5",
   "metadata": {},
   "outputs": [
    {
     "name": "stdout",
     "output_type": "stream",
     "text": [
      "+------+--------------+\n",
      "|estado|media_registro|\n",
      "+------+--------------+\n",
      "|SC    |3.14          |\n",
      "|RO    |2.44          |\n",
      "|PI    |2.5           |\n",
      "|AM    |2.43          |\n",
      "|RR    |2.54          |\n",
      "|GO    |2.81          |\n",
      "|TO    |2.43          |\n",
      "|MT    |2.07          |\n",
      "|SP    |3.27          |\n",
      "|ES    |2.53          |\n",
      "|PB    |2.27          |\n",
      "|RS    |2.6           |\n",
      "|MS    |3.0           |\n",
      "|AL    |2.4           |\n",
      "|MG    |2.88          |\n",
      "|PA    |2.0           |\n",
      "|BA    |3.0           |\n",
      "|SE    |2.93          |\n",
      "|PE    |2.43          |\n",
      "|CE    |2.81          |\n",
      "+------+--------------+\n",
      "only showing top 20 rows\n",
      "\n"
     ]
    }
   ],
   "source": [
    "(\n",
    "    df\n",
    "    .groupBy(F.col('estado'),F.col('cor_favorita')).count()\n",
    "    .groupBy('estado').avg('count').withColumn('media_registro', F.round(F.col('avg(count)'),2)).drop('avg(count)')\n",
    "    .show(20, False)\n",
    ")"
   ]
  },
  {
   "cell_type": "code",
   "execution_count": 44,
   "id": "dca1de5a-68b8-448e-bef3-ad95beee51f3",
   "metadata": {},
   "outputs": [
    {
     "name": "stdout",
     "output_type": "stream",
     "text": [
      "+------------------------+-----+\n",
      "|year(data_de_nascimento)|count|\n",
      "+------------------------+-----+\n",
      "|                    1959|    8|\n",
      "|                    1990|    7|\n",
      "|                    1975|    7|\n",
      "|                    1977|    5|\n",
      "|                    1924|    9|\n",
      "|                    2003|    7|\n",
      "|                    2007|   12|\n",
      "|                    2018|   13|\n",
      "|                    1974|    7|\n",
      "|                    2015|    9|\n",
      "|                    2023|    2|\n",
      "|                    1927|    6|\n",
      "|                    1955|   13|\n",
      "|                    2006|   14|\n",
      "|                    2022|    9|\n",
      "|                    1978|    6|\n",
      "|                    1908|    8|\n",
      "|                    1925|    7|\n",
      "|                    1961|    7|\n",
      "|                    2013|    9|\n",
      "+------------------------+-----+\n",
      "only showing top 20 rows\n",
      "\n"
     ]
    }
   ],
   "source": [
    "df.groupBy(F.year(F.col('data_de_nascimento'))).count().show()"
   ]
  },
  {
   "cell_type": "code",
   "execution_count": null,
   "id": "d9e2e9bd-eb40-40ec-81a7-c4ba1519bb88",
   "metadata": {},
   "outputs": [],
   "source": []
  }
 ],
 "metadata": {
  "kernelspec": {
   "display_name": "Python 3 (ipykernel)",
   "language": "python",
   "name": "python3"
  },
  "language_info": {
   "codemirror_mode": {
    "name": "ipython",
    "version": 3
   },
   "file_extension": ".py",
   "mimetype": "text/x-python",
   "name": "python",
   "nbconvert_exporter": "python",
   "pygments_lexer": "ipython3",
   "version": "3.11.7"
  }
 },
 "nbformat": 4,
 "nbformat_minor": 5
}
