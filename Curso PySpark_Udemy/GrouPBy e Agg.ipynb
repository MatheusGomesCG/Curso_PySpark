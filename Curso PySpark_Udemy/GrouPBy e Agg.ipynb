{
 "cells": [
  {
   "cell_type": "code",
   "execution_count": 1,
   "id": "de55e7b0-102b-4241-9d40-44fb623d6bb3",
   "metadata": {},
   "outputs": [
    {
     "name": "stdout",
     "output_type": "stream",
     "text": [
      "Requirement already satisfied: pyspark in /home/casa/anaconda3/lib/python3.11/site-packages (3.3.2)\n",
      "Requirement already satisfied: findspark in /home/casa/anaconda3/lib/python3.11/site-packages (2.0.1)\n",
      "Requirement already satisfied: py4j==0.10.9.5 in /home/casa/anaconda3/lib/python3.11/site-packages (from pyspark) (0.10.9.5)\n"
     ]
    }
   ],
   "source": [
    "!pip install pyspark findspark"
   ]
  },
  {
   "cell_type": "code",
   "execution_count": 2,
   "id": "23ebec76-c433-481f-9994-47899fe58a66",
   "metadata": {},
   "outputs": [],
   "source": [
    "import findspark\n",
    "findspark.init()"
   ]
  },
  {
   "cell_type": "code",
   "execution_count": 4,
   "id": "23b7a405-480e-4e3a-8c20-7b170ae85997",
   "metadata": {},
   "outputs": [],
   "source": [
    "from pyspark.sql import SparkSession\n",
    "import pyspark.sql.functions as F"
   ]
  },
  {
   "cell_type": "code",
   "execution_count": 8,
   "id": "7be47fad-70f6-4edc-bac3-8d7704fe00fe",
   "metadata": {},
   "outputs": [],
   "source": [
    "spark = (\n",
    "    SparkSession.builder.master('local[*]')\n",
    "    .appName('Curso PySpark 03')\n",
    "    .config('spark.sql.legacy.timeParserPolicy', 'LEGACY')\n",
    "    .getOrCreate()\n",
    ")"
   ]
  },
  {
   "cell_type": "code",
   "execution_count": 9,
   "id": "da2fd3d5-285a-4655-8043-57eeae9aa1d6",
   "metadata": {},
   "outputs": [
    {
     "data": {
      "text/html": [
       "\n",
       "            <div>\n",
       "                <p><b>SparkSession - in-memory</b></p>\n",
       "                \n",
       "        <div>\n",
       "            <p><b>SparkContext</b></p>\n",
       "\n",
       "            <p><a href=\"http://192.168.0.9:4042\">Spark UI</a></p>\n",
       "\n",
       "            <dl>\n",
       "              <dt>Version</dt>\n",
       "                <dd><code>v3.3.2</code></dd>\n",
       "              <dt>Master</dt>\n",
       "                <dd><code>local[*]</code></dd>\n",
       "              <dt>AppName</dt>\n",
       "                <dd><code>Curso PySpark 03</code></dd>\n",
       "            </dl>\n",
       "        </div>\n",
       "        \n",
       "            </div>\n",
       "        "
      ],
      "text/plain": [
       "<pyspark.sql.session.SparkSession at 0x78a2e2c91e50>"
      ]
     },
     "execution_count": 9,
     "metadata": {},
     "output_type": "execute_result"
    }
   ],
   "source": [
    "spark"
   ]
  },
  {
   "cell_type": "code",
   "execution_count": 32,
   "id": "d3107cdd-1fa1-4d4f-bf29-44366f6677cb",
   "metadata": {},
   "outputs": [],
   "source": [
    "df = spark.read.parquet('./DATASETS/LOGINS.parquet')"
   ]
  },
  {
   "cell_type": "code",
   "execution_count": 33,
   "id": "c6dfd022-e0bb-4947-b4b1-ced92b2e0dee",
   "metadata": {},
   "outputs": [],
   "source": [
    "df = df.withColumn('num', F.dayofmonth(F.col('data_de_nascimento')))"
   ]
  },
  {
   "cell_type": "code",
   "execution_count": 43,
   "id": "4a539a53-ba62-414a-91c6-99dbf5de479d",
   "metadata": {},
   "outputs": [
    {
     "name": "stdout",
     "output_type": "stream",
     "text": [
      "+------------+------------+----+-----+-----+\n",
      "|cor_favorita|qnt_registro|soma|media|menor|\n",
      "+------------+------------+----+-----+-----+\n",
      "|Preto       |57          |893 |15.67|1    |\n",
      "|Violeta     |47          |773 |16.45|1    |\n",
      "|Rosa        |81          |1146|14.15|1    |\n",
      "|Marrom      |62          |916 |14.77|1    |\n",
      "|Ciano       |59          |1085|18.39|1    |\n",
      "|Laranja     |53          |956 |18.04|1    |\n",
      "|Azul        |76          |1295|17.04|1    |\n",
      "|Verde Claro |66          |1179|17.86|1    |\n",
      "|Roxo        |64          |1025|16.02|1    |\n",
      "|Branco      |66          |1085|16.44|1    |\n",
      "|Verde Escuro|65          |1103|16.97|1    |\n",
      "|Azul Escuro |62          |1042|16.81|1    |\n",
      "|Verde       |53          |858 |16.19|1    |\n",
      "|Magenta     |54          |935 |17.31|1    |\n",
      "|Cinza       |75          |1208|16.11|1    |\n",
      "|Amarelo     |60          |828 |13.8 |1    |\n",
      "+------------+------------+----+-----+-----+\n",
      "\n"
     ]
    }
   ],
   "source": [
    "(\n",
    "    df.groupBy('cor_favorita').agg(F.count('*').alias('qnt_registro') , F.sum('num').alias('soma'), F.round(F.avg('num'),2).alias('media'), F.min('num').alias('menor'))\n",
    "    .show(20, False)\n",
    ")"
   ]
  },
  {
   "cell_type": "code",
   "execution_count": 45,
   "id": "b9a2bff9-91d5-4237-8e84-ca74a4c78629",
   "metadata": {},
   "outputs": [
    {
     "name": "stdout",
     "output_type": "stream",
     "text": [
      "+------------+--------+--------+\n",
      "|cor_favorita|sum(num)|count(1)|\n",
      "+------------+--------+--------+\n",
      "|Preto       |893     |57      |\n",
      "|Violeta     |773     |47      |\n",
      "|Rosa        |1146    |81      |\n",
      "|Marrom      |916     |62      |\n",
      "|Ciano       |1085    |59      |\n",
      "|Laranja     |956     |53      |\n",
      "|Azul        |1295    |76      |\n",
      "|Verde Claro |1179    |66      |\n",
      "|Roxo        |1025    |64      |\n",
      "|Branco      |1085    |66      |\n",
      "|Verde Escuro|1103    |65      |\n",
      "|Azul Escuro |1042    |62      |\n",
      "|Verde       |858     |53      |\n",
      "|Magenta     |935     |54      |\n",
      "|Cinza       |1208    |75      |\n",
      "|Amarelo     |828     |60      |\n",
      "+------------+--------+--------+\n",
      "\n"
     ]
    }
   ],
   "source": [
    "df.groupBy('cor_favorita').agg({'*': 'count', 'num': 'sum'}).show(20, False)"
   ]
  },
  {
   "cell_type": "code",
   "execution_count": null,
   "id": "b59df0df-d594-4849-a078-a70d6771778c",
   "metadata": {},
   "outputs": [],
   "source": []
  }
 ],
 "metadata": {
  "kernelspec": {
   "display_name": "Python 3 (ipykernel)",
   "language": "python",
   "name": "python3"
  },
  "language_info": {
   "codemirror_mode": {
    "name": "ipython",
    "version": 3
   },
   "file_extension": ".py",
   "mimetype": "text/x-python",
   "name": "python",
   "nbconvert_exporter": "python",
   "pygments_lexer": "ipython3",
   "version": "3.11.7"
  }
 },
 "nbformat": 4,
 "nbformat_minor": 5
}
