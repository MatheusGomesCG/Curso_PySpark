{
 "cells": [
  {
   "cell_type": "code",
   "execution_count": 1,
   "id": "f42c65ad-fd36-4b70-b05f-bce69c056f4a",
   "metadata": {},
   "outputs": [
    {
     "name": "stdout",
     "output_type": "stream",
     "text": [
      "Requirement already satisfied: pyspark in /home/casa/anaconda3/lib/python3.11/site-packages (3.3.2)\n",
      "Requirement already satisfied: findspark in /home/casa/anaconda3/lib/python3.11/site-packages (2.0.1)\n",
      "Requirement already satisfied: py4j==0.10.9.5 in /home/casa/anaconda3/lib/python3.11/site-packages (from pyspark) (0.10.9.5)\n"
     ]
    }
   ],
   "source": [
    "!pip install pyspark findspark"
   ]
  },
  {
   "cell_type": "code",
   "execution_count": 2,
   "id": "e08c9ee1-904d-4e07-83c9-6b1eefa98cae",
   "metadata": {},
   "outputs": [],
   "source": [
    "import findspark\n",
    "findspark.init()"
   ]
  },
  {
   "cell_type": "code",
   "execution_count": 3,
   "id": "c960a0e5-f6d9-4793-a95e-85f2044f7dec",
   "metadata": {},
   "outputs": [],
   "source": [
    "from pyspark.sql import SparkSession\n",
    "import pyspark.sql.functions as F"
   ]
  },
  {
   "cell_type": "code",
   "execution_count": 16,
   "id": "91813775-ea41-4ce2-9d17-4a33ce016b34",
   "metadata": {},
   "outputs": [],
   "source": [
    "spark = (\n",
    "    SparkSession.builder.master('local[*]')\n",
    "    .appName('Curso PySpark part04')\n",
    "    .config('spark.sql.repl.eagerEval.enabled', True)\n",
    "    .getOrCreate()\n",
    ")"
   ]
  },
  {
   "cell_type": "code",
   "execution_count": null,
   "id": "9f1479b0-7485-4d38-b12d-09cd8fe9b761",
   "metadata": {},
   "outputs": [],
   "source": [
    "spark"
   ]
  },
  {
   "cell_type": "code",
   "execution_count": 8,
   "id": "a6c2c54a-5b52-4b71-b2db-48f51d97f903",
   "metadata": {},
   "outputs": [],
   "source": [
    "autores = spark.read.parquet('./DATASETS/AUTORES.parquet')\n",
    "livros = spark.read.parquet('./DATASETS/LIVROS.parquet')\n",
    "clientes = spark.read.parquet('./DATASETS/CLIENTES.parquet')\n",
    "compras = spark.read.parquet('./DATASETS/COMPRAS.parquet')"
   ]
  },
  {
   "cell_type": "code",
   "execution_count": 9,
   "id": "c2a30e67-a729-41f9-9f9f-cf131f730320",
   "metadata": {},
   "outputs": [
    {
     "name": "stdout",
     "output_type": "stream",
     "text": [
      "+---------+----------------------------+--------------------------+\n",
      "|id       |titulo                      |autor                     |\n",
      "+---------+----------------------------+--------------------------+\n",
      "|106042959|1984                        |George Orwell             |\n",
      "|017551704|200 Crônicas Escolhidas     |Rubem Braga               |\n",
      "|054099410|A Alma Encantadora das Ruas |João do Rio               |\n",
      "|128422117|A Biblioteca da Meia-Noite  |Matt Haig                 |\n",
      "|049141399|A Coleira do Cão            |Rubem Fonseca             |\n",
      "|065490862|A Cor Púrpura               |Alice Walker              |\n",
      "|029077001|A Educação Sentimental      |Gustave Flaubert          |\n",
      "|032275599|A Escrava Isaura            |Bernardo Guimarães        |\n",
      "|090690941|A Estrela Sobe              |Marques Rebelo            |\n",
      "|095695255|A Hora da Estrela           |Clarice Lispector         |\n",
      "|036365230|A Hora dos Ruminantes       |José J. Veiga             |\n",
      "|069146824|A Letra Escarlate           |Nathaniel Hawthorne       |\n",
      "|025903823|A Metamorfose               |Franz Kafka               |\n",
      "|015903574|A Montanha Mágica           |Thomas Mann               |\n",
      "|076938216|A Moreninha                 |Joaquim Manuel de Macedo  |\n",
      "|010325500|A Obscena Senhora D         |Hilda Hilst               |\n",
      "|095678890|A Paixão Segundo G.H.       |Clarice Lispector         |\n",
      "|073269564|A Revolução dos Bichos      |George Orwell             |\n",
      "|076121829|A Rosa do Povo              |Carlos Drummond de Andrade|\n",
      "|087365849|A Senhorita Simpson         |Sérgio Sant’anna          |\n",
      "+---------+----------------------------+--------------------------+\n",
      "only showing top 20 rows\n",
      "\n"
     ]
    }
   ],
   "source": [
    "autores.show(20, False)"
   ]
  },
  {
   "cell_type": "code",
   "execution_count": 11,
   "id": "66a74841-3302-44ca-97d3-20cf1553f68c",
   "metadata": {},
   "outputs": [
    {
     "name": "stdout",
     "output_type": "stream",
     "text": [
      "+---------+----------------------------+--------------------------+------------------+---------------+-------------+-------------+--------------+------+\n",
      "|id       |titulo                      |autor                     |cnpj_editora      |data_lancamento|ean          |isbn10       |numero_paginas|preco |\n",
      "+---------+----------------------------+--------------------------+------------------+---------------+-------------+-------------+--------------+------+\n",
      "|106042959|1984                        |George Orwell             |null              |null           |null         |null         |null          |null  |\n",
      "|017551704|200 Crônicas Escolhidas     |Rubem Braga               |14.857.032/0001-12|2018-10-19     |2352660010751|0-7433-6026-5|645           |44.38 |\n",
      "|054099410|A Alma Encantadora das Ruas |João do Rio               |null              |null           |null         |null         |null          |null  |\n",
      "|128422117|A Biblioteca da Meia-Noite  |Matt Haig                 |null              |null           |null         |null         |null          |null  |\n",
      "|049141399|A Coleira do Cão            |Rubem Fonseca             |null              |null           |null         |null         |null          |null  |\n",
      "|065490862|A Cor Púrpura               |Alice Walker              |null              |null           |null         |null         |null          |null  |\n",
      "|029077001|A Educação Sentimental      |Gustave Flaubert          |null              |null           |null         |null         |null          |null  |\n",
      "|032275599|A Escrava Isaura            |Bernardo Guimarães        |49.037.512/0001-11|2001-05-15     |2964406383663|1-83335-705-1|752           |184.42|\n",
      "|090690941|A Estrela Sobe              |Marques Rebelo            |null              |null           |null         |null         |null          |null  |\n",
      "|095695255|A Hora da Estrela           |Clarice Lispector         |94.567.038/0001-94|2015-04-23     |4084520465552|0-7650-7381-1|572           |83.33 |\n",
      "|036365230|A Hora dos Ruminantes       |José J. Veiga             |null              |null           |null         |null         |null          |null  |\n",
      "|069146824|A Letra Escarlate           |Nathaniel Hawthorne       |null              |null           |null         |null         |null          |null  |\n",
      "|025903823|A Metamorfose               |Franz Kafka               |64.315.082/0001-46|2006-01-05     |7561853479861|0-10-032263-8|760           |215.52|\n",
      "|015903574|A Montanha Mágica           |Thomas Mann               |25.908.643/0001-69|2006-03-03     |7694802204365|0-931131-95-2|600           |90.22 |\n",
      "|076938216|A Moreninha                 |Joaquim Manuel de Macedo  |null              |null           |null         |null         |null          |null  |\n",
      "|010325500|A Obscena Senhora D         |Hilda Hilst               |27.689.540/0001-80|2000-09-09     |8793472196570|0-933627-98-X|306           |30.62 |\n",
      "|095678890|A Paixão Segundo G.H.       |Clarice Lispector         |null              |null           |null         |null         |null          |null  |\n",
      "|073269564|A Revolução dos Bichos      |George Orwell             |null              |null           |null         |null         |null          |null  |\n",
      "|076121829|A Rosa do Povo              |Carlos Drummond de Andrade|null              |null           |null         |null         |null          |null  |\n",
      "|087365849|A Senhorita Simpson         |Sérgio Sant’anna          |null              |null           |null         |null         |null          |null  |\n",
      "+---------+----------------------------+--------------------------+------------------+---------------+-------------+-------------+--------------+------+\n",
      "only showing top 20 rows\n",
      "\n"
     ]
    }
   ],
   "source": [
    "autores.join(other=livros, on='id', how='left').show(20, False)"
   ]
  },
  {
   "cell_type": "code",
   "execution_count": 12,
   "id": "1210582c-bf6e-4ead-a699-b36311ff9944",
   "metadata": {},
   "outputs": [
    {
     "name": "stdout",
     "output_type": "stream",
     "text": [
      "+---------+---------------------------------+-------------------+------------------+---------------+-------------+-------------+--------------+------+\n",
      "|id       |titulo                           |autor              |cnpj_editora      |data_lancamento|ean          |isbn10       |numero_paginas|preco |\n",
      "+---------+---------------------------------+-------------------+------------------+---------------+-------------+-------------+--------------+------+\n",
      "|102961160|null                             |null               |54.317.982/0001-79|2011-09-19     |4367115749184|0-06-594558-1|516           |113.84|\n",
      "|043636240|null                             |null               |16.938.042/0001-08|2019-05-11     |1239569754256|0-611-23680-X|371           |207.67|\n",
      "|052928059|null                             |null               |57.624.038/0001-52|2003-08-03     |5462162528221|1-109-29542-1|198           |107.89|\n",
      "|088482271|null                             |null               |16.249.378/0001-63|2022-09-07     |5713629047213|1-229-68842-0|632           |143.95|\n",
      "|028125446|null                             |null               |90.425.178/0001-77|2011-07-25     |2226757040245|0-657-66391-3|384           |156.49|\n",
      "|055610005|null                             |null               |20.756.194/0001-67|2006-03-22     |2114468195241|0-455-43278-3|419           |37.08 |\n",
      "|049806867|null                             |null               |93.617.240/0001-10|2022-02-17     |3166123637398|1-4822-8784-6|378           |162.97|\n",
      "|102803370|null                             |null               |48.760.531/0001-09|2011-12-13     |2550608407612|0-399-05121-X|732           |75.62 |\n",
      "|084858867|null                             |null               |10.752.843/0001-06|2015-04-30     |6207011925788|1-03-549652-6|635           |237.67|\n",
      "|059303729|null                             |null               |05.129.783/0001-21|2001-08-25     |1641133648784|0-620-46508-5|107           |61.41 |\n",
      "|064175052|null                             |null               |65.301.927/0001-07|2008-05-29     |6905480714673|1-876722-64-9|795           |85.56 |\n",
      "|080608956|Viva o Povo Brasileiro           |João Ubaldo Ribeiro|90.563.247/0001-09|2011-10-05     |0332981484891|1-925760-25-1|203           |107.63|\n",
      "|018453254|Grande Sertão: Veredas           |Guimarães Rosa     |95.367.280/0001-87|2012-11-02     |0507454098268|0-609-21722-4|043           |52.94 |\n",
      "|021765997|As Aventuras de Huckleberry Finn |Mark Twain         |59.374.801/0001-60|2014-05-17     |4743679337089|1-85580-232-5|499           |143.43|\n",
      "|023911383|Catatau                          |Paulo Leminski     |98.526.047/0001-98|2005-11-12     |4165252098109|1-369-22273-4|599           |121.0 |\n",
      "|029667220|null                             |null               |20.136.498/0001-21|2008-09-22     |9813450961422|0-466-92503-4|474           |175.32|\n",
      "|030099528|Retrato do Artista Quando Jovem  |James Joyce        |28.103.975/0001-64|2000-02-06     |9164658045347|0-904222-71-3|292           |208.39|\n",
      "|034553086|null                             |null               |29.507.683/0001-50|2016-12-29     |7318970609554|1-4989-7802-9|540           |113.52|\n",
      "|035350343|null                             |null               |25.491.073/0001-54|2003-11-29     |7630092024962|1-957157-95-X|109           |58.61 |\n",
      "|017477529|null                             |null               |39.507.184/0001-16|2005-09-23     |5930606400018|1-393-77728-7|747           |232.65|\n",
      "+---------+---------------------------------+-------------------+------------------+---------------+-------------+-------------+--------------+------+\n",
      "only showing top 20 rows\n",
      "\n"
     ]
    }
   ],
   "source": [
    "autores.join(other=livros, on='id', how='right').show(20, False)"
   ]
  },
  {
   "cell_type": "code",
   "execution_count": null,
   "id": "acb56bf8-f6b8-4a38-8f34-3d7586479f98",
   "metadata": {},
   "outputs": [],
   "source": [
    "compras.join(other=livros, on=compras.cd_livro == livros.id, how='inner')"
   ]
  },
  {
   "cell_type": "code",
   "execution_count": 23,
   "id": "7b6c9448-9b35-41d6-a05b-9f34440a0ee3",
   "metadata": {},
   "outputs": [],
   "source": [
    "cond = [compras.cd_livro == livros.id, livros.preco < 20, compras.cartao_bandeira == 'American Express']"
   ]
  },
  {
   "cell_type": "code",
   "execution_count": null,
   "id": "6817ec38-e19d-49d0-9fcd-1532ba1121e0",
   "metadata": {},
   "outputs": [],
   "source": [
    "compras.join(livros, cond, 'inner')"
   ]
  },
  {
   "cell_type": "code",
   "execution_count": 25,
   "id": "a0dfc53d-aacf-48c0-8fd9-77ad248cddf7",
   "metadata": {},
   "outputs": [],
   "source": [
    "df1 = autores.where(autores.id.isin('106042959', '017551704', '054099410'))"
   ]
  },
  {
   "cell_type": "code",
   "execution_count": 27,
   "id": "27d05d0d-2143-4870-91af-0014c589be7b",
   "metadata": {},
   "outputs": [],
   "source": [
    "df2 = livros.where(livros.id.isin('017551704'))"
   ]
  },
  {
   "cell_type": "code",
   "execution_count": 28,
   "id": "95607f2c-475d-411e-9142-7bc843d5e67c",
   "metadata": {},
   "outputs": [
    {
     "data": {
      "text/html": [
       "<table border='1'>\n",
       "<tr><th>id</th><th>titulo</th><th>autor</th><th>cnpj_editora</th><th>data_lancamento</th><th>ean</th><th>isbn10</th><th>numero_paginas</th><th>preco</th></tr>\n",
       "<tr><td>017551704</td><td>200 Crônicas Esco...</td><td>Rubem Braga</td><td>14.857.032/0001-12</td><td>2018-10-19</td><td>2352660010751</td><td>0-7433-6026-5</td><td>645</td><td>44.38</td></tr>\n",
       "</table>\n"
      ],
      "text/plain": [
       "+---------+--------------------+-----------+------------------+---------------+-------------+-------------+--------------+-----+\n",
       "|       id|              titulo|      autor|      cnpj_editora|data_lancamento|          ean|       isbn10|numero_paginas|preco|\n",
       "+---------+--------------------+-----------+------------------+---------------+-------------+-------------+--------------+-----+\n",
       "|017551704|200 Crônicas Esco...|Rubem Braga|14.857.032/0001-12|     2018-10-19|2352660010751|0-7433-6026-5|           645|44.38|\n",
       "+---------+--------------------+-----------+------------------+---------------+-------------+-------------+--------------+-----+"
      ]
     },
     "execution_count": 28,
     "metadata": {},
     "output_type": "execute_result"
    }
   ],
   "source": [
    "# Inner (O que tem de igual no centro)\n",
    "df1.join(df2, 'id', 'inner')"
   ]
  },
  {
   "cell_type": "code",
   "execution_count": 29,
   "id": "ebb12f0d-9f1b-43dc-a3a4-c0b5fc3504d1",
   "metadata": {},
   "outputs": [
    {
     "data": {
      "text/html": [
       "<table border='1'>\n",
       "<tr><th>id</th><th>titulo</th><th>autor</th><th>cnpj_editora</th><th>data_lancamento</th><th>ean</th><th>isbn10</th><th>numero_paginas</th><th>preco</th></tr>\n",
       "<tr><td>106042959</td><td>1984 </td><td>George Orwell</td><td>null</td><td>null</td><td>null</td><td>null</td><td>null</td><td>null</td></tr>\n",
       "<tr><td>017551704</td><td>200 Crônicas Esco...</td><td>Rubem Braga</td><td>14.857.032/0001-12</td><td>2018-10-19</td><td>2352660010751</td><td>0-7433-6026-5</td><td>645</td><td>44.38</td></tr>\n",
       "<tr><td>054099410</td><td>A Alma Encantador...</td><td>João do Rio</td><td>null</td><td>null</td><td>null</td><td>null</td><td>null</td><td>null</td></tr>\n",
       "</table>\n"
      ],
      "text/plain": [
       "+---------+--------------------+-------------+------------------+---------------+-------------+-------------+--------------+-----+\n",
       "|       id|              titulo|        autor|      cnpj_editora|data_lancamento|          ean|       isbn10|numero_paginas|preco|\n",
       "+---------+--------------------+-------------+------------------+---------------+-------------+-------------+--------------+-----+\n",
       "|106042959|               1984 |George Orwell|              null|           null|         null|         null|          null| null|\n",
       "|017551704|200 Crônicas Esco...|  Rubem Braga|14.857.032/0001-12|     2018-10-19|2352660010751|0-7433-6026-5|           645|44.38|\n",
       "|054099410|A Alma Encantador...|  João do Rio|              null|           null|         null|         null|          null| null|\n",
       "+---------+--------------------+-------------+------------------+---------------+-------------+-------------+--------------+-----+"
      ]
     },
     "execution_count": 29,
     "metadata": {},
     "output_type": "execute_result"
    }
   ],
   "source": [
    "# Left Join (Tudo que ta no 1 data frame, mas o centro dos dois dataframe)\n",
    "df1.join(df2, 'id', 'left')"
   ]
  },
  {
   "cell_type": "code",
   "execution_count": 30,
   "id": "395ea0e2-c0b2-41e5-bea2-9b769687b27b",
   "metadata": {},
   "outputs": [
    {
     "data": {
      "text/html": [
       "<table border='1'>\n",
       "<tr><th>id</th><th>titulo</th><th>autor</th><th>cnpj_editora</th><th>data_lancamento</th><th>ean</th><th>isbn10</th><th>numero_paginas</th><th>preco</th></tr>\n",
       "<tr><td>017551704</td><td>200 Crônicas Esco...</td><td>Rubem Braga</td><td>14.857.032/0001-12</td><td>2018-10-19</td><td>2352660010751</td><td>0-7433-6026-5</td><td>645</td><td>44.38</td></tr>\n",
       "</table>\n"
      ],
      "text/plain": [
       "+---------+--------------------+-----------+------------------+---------------+-------------+-------------+--------------+-----+\n",
       "|       id|              titulo|      autor|      cnpj_editora|data_lancamento|          ean|       isbn10|numero_paginas|preco|\n",
       "+---------+--------------------+-----------+------------------+---------------+-------------+-------------+--------------+-----+\n",
       "|017551704|200 Crônicas Esco...|Rubem Braga|14.857.032/0001-12|     2018-10-19|2352660010751|0-7433-6026-5|           645|44.38|\n",
       "+---------+--------------------+-----------+------------------+---------------+-------------+-------------+--------------+-----+"
      ]
     },
     "execution_count": 30,
     "metadata": {},
     "output_type": "execute_result"
    }
   ],
   "source": [
    "# Right Join (Tudo que ta no 2 data frame, mas o centro dos dois dataframe)\n",
    "df1.join(df2, 'id', 'right')"
   ]
  },
  {
   "cell_type": "code",
   "execution_count": 31,
   "id": "af28367e-475f-4584-b35a-cc520600059d",
   "metadata": {},
   "outputs": [
    {
     "data": {
      "text/html": [
       "<table border='1'>\n",
       "<tr><th>id</th><th>cnpj_editora</th><th>data_lancamento</th><th>ean</th><th>isbn10</th><th>numero_paginas</th><th>preco</th></tr>\n",
       "<tr><td>028125446</td><td>90.425.178/0001-77</td><td>2011-07-25</td><td>2226757040245</td><td>0-657-66391-3</td><td>384</td><td>156.49</td></tr>\n",
       "<tr><td>049806867</td><td>93.617.240/0001-10</td><td>2022-02-17</td><td>3166123637398</td><td>1-4822-8784-6</td><td>378</td><td>162.97</td></tr>\n",
       "<tr><td>017551704</td><td>14.857.032/0001-12</td><td>2018-10-19</td><td>2352660010751</td><td>0-7433-6026-5</td><td>645</td><td>44.38</td></tr>\n",
       "</table>\n"
      ],
      "text/plain": [
       "+---------+------------------+---------------+-------------+-------------+--------------+------+\n",
       "|       id|      cnpj_editora|data_lancamento|          ean|       isbn10|numero_paginas| preco|\n",
       "+---------+------------------+---------------+-------------+-------------+--------------+------+\n",
       "|028125446|90.425.178/0001-77|     2011-07-25|2226757040245|0-657-66391-3|           384|156.49|\n",
       "|049806867|93.617.240/0001-10|     2022-02-17|3166123637398|1-4822-8784-6|           378|162.97|\n",
       "|017551704|14.857.032/0001-12|     2018-10-19|2352660010751|0-7433-6026-5|           645| 44.38|\n",
       "+---------+------------------+---------------+-------------+-------------+--------------+------+"
      ]
     },
     "execution_count": 31,
     "metadata": {},
     "output_type": "execute_result"
    }
   ],
   "source": [
    "df3 = livros.where(livros.id.isin('017551704', '028125446', '049806867'))\n",
    "df3"
   ]
  },
  {
   "cell_type": "code",
   "execution_count": 32,
   "id": "265ffc77-d317-4b84-820e-ef3758c461a0",
   "metadata": {},
   "outputs": [
    {
     "data": {
      "text/html": [
       "<table border='1'>\n",
       "<tr><th>id</th><th>titulo</th><th>autor</th><th>cnpj_editora</th><th>data_lancamento</th><th>ean</th><th>isbn10</th><th>numero_paginas</th><th>preco</th></tr>\n",
       "<tr><td>017551704</td><td>200 Crônicas Esco...</td><td>Rubem Braga</td><td>14.857.032/0001-12</td><td>2018-10-19</td><td>2352660010751</td><td>0-7433-6026-5</td><td>645</td><td>44.38</td></tr>\n",
       "<tr><td>028125446</td><td>null</td><td>null</td><td>90.425.178/0001-77</td><td>2011-07-25</td><td>2226757040245</td><td>0-657-66391-3</td><td>384</td><td>156.49</td></tr>\n",
       "<tr><td>049806867</td><td>null</td><td>null</td><td>93.617.240/0001-10</td><td>2022-02-17</td><td>3166123637398</td><td>1-4822-8784-6</td><td>378</td><td>162.97</td></tr>\n",
       "<tr><td>054099410</td><td>A Alma Encantador...</td><td>João do Rio</td><td>null</td><td>null</td><td>null</td><td>null</td><td>null</td><td>null</td></tr>\n",
       "<tr><td>106042959</td><td>1984 </td><td>George Orwell</td><td>null</td><td>null</td><td>null</td><td>null</td><td>null</td><td>null</td></tr>\n",
       "</table>\n"
      ],
      "text/plain": [
       "+---------+--------------------+-------------+------------------+---------------+-------------+-------------+--------------+------+\n",
       "|       id|              titulo|        autor|      cnpj_editora|data_lancamento|          ean|       isbn10|numero_paginas| preco|\n",
       "+---------+--------------------+-------------+------------------+---------------+-------------+-------------+--------------+------+\n",
       "|017551704|200 Crônicas Esco...|  Rubem Braga|14.857.032/0001-12|     2018-10-19|2352660010751|0-7433-6026-5|           645| 44.38|\n",
       "|028125446|                null|         null|90.425.178/0001-77|     2011-07-25|2226757040245|0-657-66391-3|           384|156.49|\n",
       "|049806867|                null|         null|93.617.240/0001-10|     2022-02-17|3166123637398|1-4822-8784-6|           378|162.97|\n",
       "|054099410|A Alma Encantador...|  João do Rio|              null|           null|         null|         null|          null|  null|\n",
       "|106042959|               1984 |George Orwell|              null|           null|         null|         null|          null|  null|\n",
       "+---------+--------------------+-------------+------------------+---------------+-------------+-------------+--------------+------+"
      ]
     },
     "execution_count": 32,
     "metadata": {},
     "output_type": "execute_result"
    }
   ],
   "source": [
    "# Full Join (Vai juntar os dois dataframes)\n",
    "df1.join(df3, 'id', 'full')"
   ]
  },
  {
   "cell_type": "code",
   "execution_count": null,
   "id": "b9854464-1a4f-4578-9670-57569fcb3acb",
   "metadata": {},
   "outputs": [],
   "source": [
    "# Cruza os registros\n",
    "df1.join(df3, how='cross').orderBy('titulo')"
   ]
  },
  {
   "cell_type": "code",
   "execution_count": 35,
   "id": "0f15eb12-18c9-4299-967c-ed0be4b791fd",
   "metadata": {},
   "outputs": [
    {
     "data": {
      "text/html": [
       "<table border='1'>\n",
       "<tr><th>id</th><th>titulo</th><th>autor</th></tr>\n",
       "<tr><td>106042959</td><td>1984 </td><td>George Orwell</td></tr>\n",
       "<tr><td>054099410</td><td>A Alma Encantador...</td><td>João do Rio</td></tr>\n",
       "</table>\n"
      ],
      "text/plain": [
       "+---------+--------------------+-------------+\n",
       "|       id|              titulo|        autor|\n",
       "+---------+--------------------+-------------+\n",
       "|106042959|               1984 |George Orwell|\n",
       "|054099410|A Alma Encantador...|  João do Rio|\n",
       "+---------+--------------------+-------------+"
      ]
     },
     "execution_count": 35,
     "metadata": {},
     "output_type": "execute_result"
    }
   ],
   "source": [
    "# Anti join pega os registros exclusivos do dataframe A\n",
    "df1.join(df3, 'id', 'anti')"
   ]
  },
  {
   "cell_type": "code",
   "execution_count": null,
   "id": "7860a62c-916a-4bb3-925b-9f29908ee394",
   "metadata": {},
   "outputs": [],
   "source": [
    "df4 = df3.union(df3)\n",
    "df4"
   ]
  },
  {
   "cell_type": "code",
   "execution_count": 37,
   "id": "20163c72-c5e2-4d45-8611-d3ddded8dd48",
   "metadata": {},
   "outputs": [
    {
     "data": {
      "text/html": [
       "<table border='1'>\n",
       "<tr><th>id</th><th>titulo</th><th>autor</th></tr>\n",
       "<tr><td>017551704</td><td>200 Crônicas Esco...</td><td>Rubem Braga</td></tr>\n",
       "</table>\n"
      ],
      "text/plain": [
       "+---------+--------------------+-----------+\n",
       "|       id|              titulo|      autor|\n",
       "+---------+--------------------+-----------+\n",
       "|017551704|200 Crônicas Esco...|Rubem Braga|\n",
       "+---------+--------------------+-----------+"
      ]
     },
     "execution_count": 37,
     "metadata": {},
     "output_type": "execute_result"
    }
   ],
   "source": [
    "# Tem a mesma função do Inner Join só que remove duplicidade\n",
    "df1.join(df4, 'id', 'semi')"
   ]
  },
  {
   "cell_type": "code",
   "execution_count": null,
   "id": "cc4f128e-253b-4bc8-94d9-3d4b0ffc6a26",
   "metadata": {},
   "outputs": [],
   "source": []
  }
 ],
 "metadata": {
  "kernelspec": {
   "display_name": "Python 3 (ipykernel)",
   "language": "python",
   "name": "python3"
  },
  "language_info": {
   "codemirror_mode": {
    "name": "ipython",
    "version": 3
   },
   "file_extension": ".py",
   "mimetype": "text/x-python",
   "name": "python",
   "nbconvert_exporter": "python",
   "pygments_lexer": "ipython3",
   "version": "3.11.7"
  }
 },
 "nbformat": 4,
 "nbformat_minor": 5
}
