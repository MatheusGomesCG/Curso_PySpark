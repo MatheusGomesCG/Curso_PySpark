{
 "cells": [
  {
   "cell_type": "code",
   "execution_count": 1,
   "id": "f0d948f3-bd05-4c3d-9e8a-0eeb3a4d0765",
   "metadata": {},
   "outputs": [
    {
     "name": "stdout",
     "output_type": "stream",
     "text": [
      "Requirement already satisfied: pyspark in /home/casa/anaconda3/lib/python3.11/site-packages (3.3.2)\n",
      "Requirement already satisfied: findspark in /home/casa/anaconda3/lib/python3.11/site-packages (2.0.1)\n",
      "Requirement already satisfied: py4j==0.10.9.5 in /home/casa/anaconda3/lib/python3.11/site-packages (from pyspark) (0.10.9.5)\n"
     ]
    }
   ],
   "source": [
    "!pip install pyspark findspark"
   ]
  },
  {
   "cell_type": "code",
   "execution_count": 2,
   "id": "a0bf7d72-b79d-44cc-b157-0bef180670ca",
   "metadata": {},
   "outputs": [],
   "source": [
    "import findspark\n",
    "findspark.init()"
   ]
  },
  {
   "cell_type": "code",
   "execution_count": 3,
   "id": "c0d45e4b-9087-4667-9a3b-0ba9d797f45c",
   "metadata": {},
   "outputs": [],
   "source": [
    "from pyspark.sql import SparkSession\n",
    "import pyspark.sql.functions as F"
   ]
  },
  {
   "cell_type": "code",
   "execution_count": 4,
   "id": "b86f0642-40a4-4d27-b5f2-3140a78bdded",
   "metadata": {},
   "outputs": [
    {
     "name": "stdout",
     "output_type": "stream",
     "text": [
      "24/05/03 09:02:44 WARN Utils: Your hostname, casa-Default-string resolves to a loopback address: 127.0.1.1; using 192.168.0.9 instead (on interface enp7s0)\n",
      "24/05/03 09:02:44 WARN Utils: Set SPARK_LOCAL_IP if you need to bind to another address\n"
     ]
    },
    {
     "name": "stderr",
     "output_type": "stream",
     "text": [
      "Setting default log level to \"WARN\".\n",
      "To adjust logging level use sc.setLogLevel(newLevel). For SparkR, use setLogLevel(newLevel).\n"
     ]
    },
    {
     "name": "stdout",
     "output_type": "stream",
     "text": [
      "24/05/03 09:02:44 WARN NativeCodeLoader: Unable to load native-hadoop library for your platform... using builtin-java classes where applicable\n"
     ]
    }
   ],
   "source": [
    "spark = (\n",
    "    SparkSession.builder.master('local[*]')\n",
    "    .appName('Aula Pivot e Unpivot')\n",
    "    .config('spark.sql.legacy.timeParserPolicy', 'LEGACY')\n",
    "    .getOrCreate()\n",
    ")"
   ]
  },
  {
   "cell_type": "code",
   "execution_count": 5,
   "id": "23090c32-7cf2-4d68-b47c-f71093558d84",
   "metadata": {},
   "outputs": [
    {
     "data": {
      "text/html": [
       "\n",
       "            <div>\n",
       "                <p><b>SparkSession - in-memory</b></p>\n",
       "                \n",
       "        <div>\n",
       "            <p><b>SparkContext</b></p>\n",
       "\n",
       "            <p><a href=\"http://192.168.0.9:4040\">Spark UI</a></p>\n",
       "\n",
       "            <dl>\n",
       "              <dt>Version</dt>\n",
       "                <dd><code>v3.3.2</code></dd>\n",
       "              <dt>Master</dt>\n",
       "                <dd><code>local[*]</code></dd>\n",
       "              <dt>AppName</dt>\n",
       "                <dd><code>Aula Pivot e Unpivot</code></dd>\n",
       "            </dl>\n",
       "        </div>\n",
       "        \n",
       "            </div>\n",
       "        "
      ],
      "text/plain": [
       "<pyspark.sql.session.SparkSession at 0x7fe6ddbd5c50>"
      ]
     },
     "execution_count": 5,
     "metadata": {},
     "output_type": "execute_result"
    }
   ],
   "source": [
    "spark"
   ]
  },
  {
   "cell_type": "code",
   "execution_count": null,
   "id": "73138fba-ac06-422d-ab59-2ad442eef8fc",
   "metadata": {},
   "outputs": [],
   "source": [
    "compras = spark.read.parquet('./DATASETS/COMPRAS.parquet')"
   ]
  },
  {
   "cell_type": "code",
   "execution_count": 33,
   "id": "d1cb2326-35c0-4b5c-9406-ccf5fd544a76",
   "metadata": {},
   "outputs": [],
   "source": [
    "df2 = (\n",
    "    compras\n",
    "    .withColumn('mes', F.date_format('data', 'MMMM'))\n",
    "    .groupBy('cartao_bandeira')\n",
    "    .pivot('mes', ['January', 'February'])\n",
    "    .agg(F.count('*').alias('qnt'))\n",
    ")"
   ]
  },
  {
   "cell_type": "code",
   "execution_count": 34,
   "id": "fee6c26a-b231-44f6-9cbe-a0b687139804",
   "metadata": {},
   "outputs": [
    {
     "name": "stdout",
     "output_type": "stream",
     "text": [
      "+--------------------+-------+--------+\n",
      "|     cartao_bandeira|January|February|\n",
      "+--------------------+-------+--------+\n",
      "|       VISA 16 digit|    878|     772|\n",
      "|       VISA 13 digit|    420|     350|\n",
      "|            Discover|    454|     406|\n",
      "|Diners Club / Car...|    397|     395|\n",
      "|    American Express|    385|     353|\n",
      "|             Maestro|    424|     374|\n",
      "|          Mastercard|    415|     359|\n",
      "|        JCB 16 digit|    835|     756|\n",
      "|       VISA 19 digit|    437|     388|\n",
      "|        JCB 15 digit|    386|     374|\n",
      "+--------------------+-------+--------+\n",
      "\n"
     ]
    }
   ],
   "source": [
    "df2.show()"
   ]
  },
  {
   "cell_type": "code",
   "execution_count": 39,
   "id": "9db380f1-344a-490f-99b1-d5ce1c4fa174",
   "metadata": {},
   "outputs": [
    {
     "name": "stdout",
     "output_type": "stream",
     "text": [
      "+--------------------+---+-----+\n",
      "|     cartao_bandeira|mes|valor|\n",
      "+--------------------+---+-----+\n",
      "|       VISA 16 digit|Jan|  878|\n",
      "|       VISA 16 digit|Feb|  772|\n",
      "|       VISA 13 digit|Jan|  420|\n",
      "|       VISA 13 digit|Feb|  350|\n",
      "|            Discover|Jan|  454|\n",
      "|            Discover|Feb|  406|\n",
      "|Diners Club / Car...|Jan|  397|\n",
      "|Diners Club / Car...|Feb|  395|\n",
      "|    American Express|Jan|  385|\n",
      "|    American Express|Feb|  353|\n",
      "|             Maestro|Jan|  424|\n",
      "|             Maestro|Feb|  374|\n",
      "|          Mastercard|Jan|  415|\n",
      "|          Mastercard|Feb|  359|\n",
      "|        JCB 16 digit|Jan|  835|\n",
      "|        JCB 16 digit|Feb|  756|\n",
      "|       VISA 19 digit|Jan|  437|\n",
      "|       VISA 19 digit|Feb|  388|\n",
      "|        JCB 15 digit|Jan|  386|\n",
      "|        JCB 15 digit|Feb|  374|\n",
      "+--------------------+---+-----+\n",
      "\n"
     ]
    }
   ],
   "source": [
    "# unpivot\n",
    "df2.select(F.col('cartao_bandeira') ,F.expr('stack(2, \"Jan\", January, \"Feb\", February) as (mes, valor)')).show()"
   ]
  },
  {
   "cell_type": "code",
   "execution_count": null,
   "id": "475d03fe-ad2f-44a8-905d-21335b00c254",
   "metadata": {},
   "outputs": [],
   "source": []
  }
 ],
 "metadata": {
  "kernelspec": {
   "display_name": "Python 3 (ipykernel)",
   "language": "python",
   "name": "python3"
  },
  "language_info": {
   "codemirror_mode": {
    "name": "ipython",
    "version": 3
   },
   "file_extension": ".py",
   "mimetype": "text/x-python",
   "name": "python",
   "nbconvert_exporter": "python",
   "pygments_lexer": "ipython3",
   "version": "3.11.7"
  }
 },
 "nbformat": 4,
 "nbformat_minor": 5
}
