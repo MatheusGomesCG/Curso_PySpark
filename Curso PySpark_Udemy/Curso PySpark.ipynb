{
 "cells": [
  {
   "cell_type": "code",
   "execution_count": 4,
   "id": "054a6b5c-aacc-4452-9045-bf328fd6f48d",
   "metadata": {},
   "outputs": [
    {
     "name": "stdout",
     "output_type": "stream",
     "text": [
      "Requirement already satisfied: pyspark in /home/casa/anaconda3/lib/python3.11/site-packages (3.3.2)\n",
      "Requirement already satisfied: findspark in /home/casa/anaconda3/lib/python3.11/site-packages (2.0.1)\n",
      "Requirement already satisfied: py4j==0.10.9.5 in /home/casa/anaconda3/lib/python3.11/site-packages (from pyspark) (0.10.9.5)\n"
     ]
    }
   ],
   "source": [
    "!pip install pyspark findspark"
   ]
  },
  {
   "cell_type": "code",
   "execution_count": 2,
   "id": "85df31ab-c660-44d9-819c-53c40e90e14b",
   "metadata": {},
   "outputs": [],
   "source": [
    "#Configura o ambiente spark para que possa ser utilizado sem configurações adicionais\n",
    "import findspark\n",
    "findspark.init()"
   ]
  },
  {
   "cell_type": "code",
   "execution_count": 18,
   "id": "90f7db5c-5edc-4093-92c4-095746004f5a",
   "metadata": {},
   "outputs": [],
   "source": [
    "#Inicializando a sessão do Pyspark\n",
    "from pyspark.sql import SparkSession\n",
    "import pyspark.sql.functions as F\n",
    "\n",
    "spark = (\n",
    "    SparkSession.builder.master('local[*]')\n",
    "    .appName('Curso de PySpark')\n",
    "    .config('spark.sql.legacy.timeParserPolicy', \"LEGACY\")\n",
    "    .getOrCreate()\n",
    ")"
   ]
  },
  {
   "cell_type": "code",
   "execution_count": 11,
   "id": "377d9980-7a6d-4689-877a-dfca5c737133",
   "metadata": {},
   "outputs": [
    {
     "data": {
      "text/html": [
       "\n",
       "            <div>\n",
       "                <p><b>SparkSession - in-memory</b></p>\n",
       "                \n",
       "        <div>\n",
       "            <p><b>SparkContext</b></p>\n",
       "\n",
       "            <p><a href=\"http://192.168.0.9:4040\">Spark UI</a></p>\n",
       "\n",
       "            <dl>\n",
       "              <dt>Version</dt>\n",
       "                <dd><code>v3.3.2</code></dd>\n",
       "              <dt>Master</dt>\n",
       "                <dd><code>local[*]</code></dd>\n",
       "              <dt>AppName</dt>\n",
       "                <dd><code>Curso de PySpark</code></dd>\n",
       "            </dl>\n",
       "        </div>\n",
       "        \n",
       "            </div>\n",
       "        "
      ],
      "text/plain": [
       "<pyspark.sql.session.SparkSession at 0x7ae7dd801250>"
      ]
     },
     "execution_count": 11,
     "metadata": {},
     "output_type": "execute_result"
    }
   ],
   "source": [
    "spark"
   ]
  },
  {
   "cell_type": "code",
   "execution_count": 16,
   "id": "84d8d331-98b5-42c5-a70a-b06e7d9ed652",
   "metadata": {},
   "outputs": [],
   "source": [
    "df = spark.read.parquet('./DATASETS/LOGINS.parquet').select('email', 'senha', 'estado', 'cor_favorita', 'profissao')"
   ]
  },
  {
   "cell_type": "code",
   "execution_count": 17,
   "id": "9c4295bc-6d92-4565-acbc-bae50ce378be",
   "metadata": {},
   "outputs": [
    {
     "name": "stdout",
     "output_type": "stream",
     "text": [
      "+--------------------+----------+------+------------+--------------------+\n",
      "|               email|     senha|estado|cor_favorita|           profissao|\n",
      "+--------------------+----------+------+------------+--------------------+\n",
      "|pedro-lucas53@gma...|+7^7E%xFBc|    RR|        Roxo|    Jogador De Golfe|\n",
      "|rezendeisaac@hotm...|_O_2GRnGOe|    GO|       Ciano|Atleta De Arremes...|\n",
      "|felipepires@uol.c...|*Aw5EOAvy9|    MG|        Azul|      Papiloscopista|\n",
      "|stellamoraes@bol....|mw0AWYAs#s|    AC|      Marrom|            Aeromoça|\n",
      "| wcarvalho@ig.com.br|pGD%!2Pq5X|    AP|     Laranja|       Fonoaudiólogo|\n",
      "|da-conceicaodavi-...|uhBbFxPA&9|    MG|        Rosa|             Taxista|\n",
      "| efreitas@bol.com.br|s#q9VZt&xl|    MG|      Branco|Produtor De Audio...|\n",
      "|   wnunes@bol.com.br|_8az1W%n7g|    SE|        Azul|          Cadeirinha|\n",
      "| jribeiro@bol.com.br|MEf1X7fj_0|    PA|      Marrom|             Geólogo|\n",
      "|  murilo05@gmail.com|Te&gO7GkKs|    MT|      Marrom|      Técnico De Som|\n",
      "| joaquim57@ig.com.br|&2E1NY+ARc|    BA|        Rosa|         Esteticista|\n",
      "|alexiada-rocha@ig...|@f@!Z!2c*2|    MS|     Laranja|        Microfonista|\n",
      "|   pmendes@gmail.com|M+^XDBfe(2|    RR| Verde Claro|              Fiscal|\n",
      "|  renan46@bol.com.br|Rp%2pVqfe$|    PA|Verde Escuro|        Contabilista|\n",
      "|manuelada-rosa@ho...|#hEIEOztQ3|    SE|     Violeta| Seguidor De Compras|\n",
      "|    usales@ig.com.br|b_8xaY$ozJ|    AM|        Rosa|           Almirante|\n",
      "|pereiranicolas@ho...|YA9I85Wb+2|    MA|     Amarelo|   Consultor De Moda|\n",
      "|cardosolivia@ig.c...|yXkDW7Ebh*|    GO|     Laranja|            Barbeiro|\n",
      "|  brenda39@ig.com.br|XS$84Hpsnw|    RJ|      Branco|  Promotor De Vendas|\n",
      "|luizapeixoto@gmai...|TbKy82Kda$|    DF|       Ciano|    Implantodontista|\n",
      "+--------------------+----------+------+------------+--------------------+\n",
      "only showing top 20 rows\n",
      "\n"
     ]
    }
   ],
   "source": [
    "df.show()"
   ]
  },
  {
   "cell_type": "code",
   "execution_count": 51,
   "id": "88cb07d8-5512-463a-ac5e-81624b44c0a1",
   "metadata": {},
   "outputs": [
    {
     "name": "stdout",
     "output_type": "stream",
     "text": [
      "+----------------------------------+----------+------+------------+---------------------------+----------+----------+\n",
      "|email                             |senha     |estado|cor_favorita|profissao                  |lpad      |rpad      |\n",
      "+----------------------------------+----------+------+------------+---------------------------+----------+----------+\n",
      "|pedro-lucas53@gmail.com           |+7^7E%xFBc|RR    |Roxo        |Jogador De Golfe           |******Roxo|Roxo******|\n",
      "|rezendeisaac@hotmail.com          |_O_2GRnGOe|GO    |Ciano       |Atleta De Arremesso De Peso|*****Ciano|Ciano*****|\n",
      "|felipepires@uol.com.br            |*Aw5EOAvy9|MG    |Azul        |Papiloscopista             |******Azul|Azul******|\n",
      "|stellamoraes@bol.com.br           |mw0AWYAs#s|AC    |Marrom      |Aeromoça                   |****Marrom|Marrom****|\n",
      "|wcarvalho@ig.com.br               |pGD%!2Pq5X|AP    |Laranja     |Fonoaudiólogo              |***Laranja|Laranja***|\n",
      "|da-conceicaodavi-lucas@hotmail.com|uhBbFxPA&9|MG    |Rosa        |Taxista                    |******Rosa|Rosa******|\n",
      "|efreitas@bol.com.br               |s#q9VZt&xl|MG    |Branco      |Produtor De Audio Visual   |****Branco|Branco****|\n",
      "|wnunes@bol.com.br                 |_8az1W%n7g|SE    |Azul        |Cadeirinha                 |******Azul|Azul******|\n",
      "|jribeiro@bol.com.br               |MEf1X7fj_0|PA    |Marrom      |Geólogo                    |****Marrom|Marrom****|\n",
      "|murilo05@gmail.com                |Te&gO7GkKs|MT    |Marrom      |Técnico De Som             |****Marrom|Marrom****|\n",
      "|joaquim57@ig.com.br               |&2E1NY+ARc|BA    |Rosa        |Esteticista                |******Rosa|Rosa******|\n",
      "|alexiada-rocha@ig.com.br          |@f@!Z!2c*2|MS    |Laranja     |Microfonista               |***Laranja|Laranja***|\n",
      "|pmendes@gmail.com                 |M+^XDBfe(2|RR    |Verde Claro |Fiscal                     |Verde Clar|Verde Clar|\n",
      "|renan46@bol.com.br                |Rp%2pVqfe$|PA    |Verde Escuro|Contabilista               |Verde Escu|Verde Escu|\n",
      "|manuelada-rosa@hotmail.com        |#hEIEOztQ3|SE    |Violeta     |Seguidor De Compras        |***Violeta|Violeta***|\n",
      "|usales@ig.com.br                  |b_8xaY$ozJ|AM    |Rosa        |Almirante                  |******Rosa|Rosa******|\n",
      "|pereiranicolas@hotmail.com        |YA9I85Wb+2|MA    |Amarelo     |Consultor De Moda          |***Amarelo|Amarelo***|\n",
      "|cardosolivia@ig.com.br            |yXkDW7Ebh*|GO    |Laranja     |Barbeiro                   |***Laranja|Laranja***|\n",
      "|brenda39@ig.com.br                |XS$84Hpsnw|RJ    |Branco      |Promotor De Vendas         |****Branco|Branco****|\n",
      "|luizapeixoto@gmail.com            |TbKy82Kda$|DF    |Ciano       |Implantodontista           |*****Ciano|Ciano*****|\n",
      "+----------------------------------+----------+------+------------+---------------------------+----------+----------+\n",
      "only showing top 20 rows\n",
      "\n"
     ]
    }
   ],
   "source": [
    "#TRABALHANDO COM STRINGS\n",
    "nome = F.split(F.col('email'), '@').getItem(0)\n",
    "(\n",
    "    df\n",
    "    # Fatia a palavra no argumento do split\n",
    "    # .withColumn('usuario', F.split(df.email, '@').getItem(0)) \n",
    "    # .withColumn('provedor', F.split(df.email, '@').getItem(1))\n",
    "    # .withColumn('nome_provedor', F.split(F.col('provedor'), '\\.').getItem(0))\n",
    "\n",
    "    # Concatena as strings na coluna\n",
    "    # .withColumn('concat', F.concat(df.profissao, df.cor_favorita))\n",
    "    # .withColumn('concat2', F.concat(df.estado, F.lit(' - Brasil')))\n",
    "\n",
    "    # Trabalha com as strings \n",
    "    # .withColumn('lower', F.lower(F.col('profissao')))\n",
    "    # .withColumn('upper', F.upper(F.col('cor_favorita')))\n",
    "    # .withColumn('initcap', F.initcap(F.col('lower')))\n",
    "\n",
    "    # Fatia as string\n",
    "    # .withColumn('substring', F.substring(F.col('cor_favorita'), 1, 3)) \n",
    "\n",
    "    # # Formata uma Sting\n",
    "    # .withColumn('format_string', F.format_string('Olá %s, sua cor favorita é %s', nome, F.col('cor_favorita')))\n",
    "\n",
    "    # # Retorna a posição de uma String (pode ser palavra ou caractere) dentro de uma string\n",
    "    # .withColumn('instr', F.instr(F.col('email'), '@'))\n",
    "\n",
    "    # Retorna o comprimento da String\n",
    "    # .withColumn('length_profissao', F.length(F.col('profissao')))\n",
    "\n",
    "    #Repete\n",
    "    # .withColumn('repet', F.repeat(F.col('estado'), 5))\n",
    "\n",
    "    # .withColumn('concat', F.concat(F.lit('            '), F.col('estado'), F.lit('            ')))\n",
    "    # .withColumn('trim', F.trim(F.col('concat'))) ##Remove os espaços laterais\n",
    "\n",
    "    # Preenche os caracteres a esquerda e a direita\n",
    "    # .withColumn('lpad', F.lpad(F.col('cor_favorita'), 10, '*'))\n",
    "    # .withColumn('rpad', F.rpad(F.col('cor_favorita'), 10, '*'))\n",
    "    .show(20, False)\n",
    ")"
   ]
  },
  {
   "cell_type": "code",
   "execution_count": 53,
   "id": "c97fa401-04af-4eee-ba95-2b80c07a75e1",
   "metadata": {},
   "outputs": [],
   "source": [
    "df = spark.read.parquet('./DATASETS/IMC.parquet')"
   ]
  },
  {
   "cell_type": "code",
   "execution_count": 54,
   "id": "fa2733f1-2352-4381-8067-f4fb8e9014bd",
   "metadata": {},
   "outputs": [
    {
     "name": "stdout",
     "output_type": "stream",
     "text": [
      "+--------------------+------+------+\n",
      "|                nome|altura|  peso|\n",
      "+--------------------+------+------+\n",
      "|    Pietra Fernandes|   176| 97.88|\n",
      "|   Ana Júlia da Rosa|   163| 80.56|\n",
      "|    Fernando Martins|   150| 85.55|\n",
      "|       Isis Silveira|   173|  70.1|\n",
      "|       Cecília Porto|   190| 93.42|\n",
      "|  Sra. Bruna Almeida|   198| 73.07|\n",
      "|   Maria Julia Silva|   170| 71.36|\n",
      "|Pedro Henrique da...|   188|105.57|\n",
      "|   Davi Lucas Campos|   180| 98.49|\n",
      "|      Juan Gonçalves|   175| 71.87|\n",
      "+--------------------+------+------+\n",
      "\n"
     ]
    }
   ],
   "source": [
    "df.show()"
   ]
  },
  {
   "cell_type": "code",
   "execution_count": 71,
   "id": "8b1a1726-7864-4c5e-a93a-9b7ade1f57a4",
   "metadata": {},
   "outputs": [
    {
     "name": "stdout",
     "output_type": "stream",
     "text": [
      "+----------------------+------+------+-----+\n",
      "|nome                  |altura|peso  |imc  |\n",
      "+----------------------+------+------+-----+\n",
      "|Pietra Fernandes      |176   |97.88 |54.43|\n",
      "|Ana Júlia da Rosa     |163   |80.56 |39.82|\n",
      "|Fernando Martins      |150   |85.55 |48.79|\n",
      "|Isis Silveira         |173   |70.1  |28.4 |\n",
      "|Cecília Porto         |190   |93.42 |45.93|\n",
      "|Sra. Bruna Almeida    |198   |73.07 |26.97|\n",
      "|Maria Julia Silva     |170   |71.36 |29.95|\n",
      "|Pedro Henrique da Cruz|188   |105.57|59.28|\n",
      "|Davi Lucas Campos     |180   |98.49 |53.89|\n",
      "|Juan Gonçalves        |175   |71.87 |29.52|\n",
      "+----------------------+------+------+-----+\n",
      "\n"
     ]
    }
   ],
   "source": [
    "(\n",
    "    df\n",
    "    # .withColumn('Round', F.round(F.col('peso'), 1)) \n",
    "    # .withColumn('ceil', F.ceil(F.col('peso')))\n",
    "    # .withColumn('floor', F.floor(F.col('peso')))\n",
    "    # .withColumn('altura_negativa', -F.col('altura'))\n",
    "    # .withColumn('abs', F.abs(F.col('altura_negativa')))\n",
    "    # .withColumn('pow', F.pow(F.col('peso'), 2))\n",
    "    # .withColumn('sqrt', F.sqrt(F.col('pow')))\n",
    "    .withColumn('imc', F.round(F.pow(F.col('peso'), 2) / F.col('altura'),2))\n",
    "    .show(20,False)\n",
    ")"
   ]
  },
  {
   "cell_type": "code",
   "execution_count": null,
   "id": "04e7ebd9-88f9-45f6-b441-6fd7a5c67ef0",
   "metadata": {},
   "outputs": [],
   "source": []
  }
 ],
 "metadata": {
  "kernelspec": {
   "display_name": "Python 3 (ipykernel)",
   "language": "python",
   "name": "python3"
  },
  "language_info": {
   "codemirror_mode": {
    "name": "ipython",
    "version": 3
   },
   "file_extension": ".py",
   "mimetype": "text/x-python",
   "name": "python",
   "nbconvert_exporter": "python",
   "pygments_lexer": "ipython3",
   "version": "3.11.7"
  }
 },
 "nbformat": 4,
 "nbformat_minor": 5
}
