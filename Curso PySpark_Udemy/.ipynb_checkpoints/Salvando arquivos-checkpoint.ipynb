{
 "cells": [
  {
   "cell_type": "code",
   "execution_count": null,
   "id": "df16f6ae-c033-49ee-a631-ff6804ef73a7",
   "metadata": {},
   "outputs": [],
   "source": [
    "!pip install pyspark findspark"
   ]
  },
  {
   "cell_type": "code",
   "execution_count": null,
   "id": "ef33012c-8727-44b9-b4f8-872919c80756",
   "metadata": {},
   "outputs": [],
   "source": [
    "import findspark\n",
    "findspark.init()"
   ]
  },
  {
   "cell_type": "code",
   "execution_count": null,
   "id": "6dcf5d3c-449f-4e62-bdad-0c9fd6b091a7",
   "metadata": {},
   "outputs": [],
   "source": [
    "from pyspark.sql import SparkSession\n",
    "import pyspark.sql.functions as F"
   ]
  },
  {
   "cell_type": "code",
   "execution_count": null,
   "id": "e5264680-6797-4f39-8f73-024b841a75e9",
   "metadata": {},
   "outputs": [],
   "source": [
    "spark = (\n",
    "    SparkSession.builder.master('local[*]')\n",
    "    .appName('Exportando arquivo')\n",
    "    .config('spark.sql.legacy.timeParserPolicy', 'LEGACY')\n",
    "    .getOrCreate()\n",
    ")"
   ]
  },
  {
   "cell_type": "code",
   "execution_count": null,
   "id": "1a103249-33af-4e45-8cdf-00af87e3c376",
   "metadata": {},
   "outputs": [],
   "source": [
    "spark"
   ]
  },
  {
   "cell_type": "code",
   "execution_count": null,
   "id": "b17003e6-767a-4600-9bcf-2748d70f787f",
   "metadata": {},
   "outputs": [],
   "source": [
    "logins = spark.read.parquet('./DATASETS/LOGINS.parquet')"
   ]
  },
  {
   "cell_type": "code",
   "execution_count": null,
   "id": "1b98ea91-88a3-41a2-882d-c6e2e033ada6",
   "metadata": {},
   "outputs": [],
   "source": [
    "logins.write.save('output', mode='overwrite', format='csv', partitionBy=['estado', 'cor_favorita'])"
   ]
  },
  {
   "cell_type": "code",
   "execution_count": null,
   "id": "4860d0b8-fc01-4765-aef2-0d8a0a3f6ba5",
   "metadata": {},
   "outputs": [],
   "source": [
    "logins.show()"
   ]
  },
  {
   "cell_type": "code",
   "execution_count": null,
   "id": "a9000e37-c626-46ee-b8a2-ebb5064c95fe",
   "metadata": {},
   "outputs": [],
   "source": [
    "logins.write.mode('overwrite').partitionBy(['estado']).parquet('output')"
   ]
  },
  {
   "cell_type": "code",
   "execution_count": 21,
   "id": "da0cc079-dee9-4687-811a-2863a6f7409b",
   "metadata": {},
   "outputs": [],
   "source": [
    "logins.toPandas().to_csv('output.csv')"
   ]
  },
  {
   "cell_type": "code",
   "execution_count": 22,
   "id": "0009ff5e-d208-4788-8ac6-fb41ffe52e30",
   "metadata": {},
   "outputs": [
    {
     "name": "stdout",
     "output_type": "stream",
     "text": [
      "Requirement already satisfied: openpyxl in /home/casa/anaconda3/lib/python3.11/site-packages (3.0.10)\n",
      "Requirement already satisfied: et_xmlfile in /home/casa/anaconda3/lib/python3.11/site-packages (from openpyxl) (1.1.0)\n"
     ]
    }
   ],
   "source": [
    "# SALVANDO EM OUTROS FORMATOS USANDO PANDAS\n",
    "!pip install openpyxl"
   ]
  },
  {
   "cell_type": "code",
   "execution_count": 24,
   "id": "f22e7fe6-d8d4-4b49-8470-dcad3182bbb9",
   "metadata": {},
   "outputs": [],
   "source": [
    "logins.toPandas().to_excel('output.xlsx')"
   ]
  },
  {
   "cell_type": "code",
   "execution_count": 25,
   "id": "26e5ce1e-a871-4514-ad0b-50f1f09fc548",
   "metadata": {},
   "outputs": [],
   "source": [
    "logins.toPandas().to_csv('output.txt')"
   ]
  },
  {
   "cell_type": "code",
   "execution_count": 26,
   "id": "0d09fe58-6578-476e-9752-f09e9a7c1706",
   "metadata": {},
   "outputs": [],
   "source": [
    "logins.toPandas().to_parquet('output.parquet')"
   ]
  },
  {
   "cell_type": "code",
   "execution_count": 27,
   "id": "75d0fe66-5a04-4468-9a86-4f8d4f679a94",
   "metadata": {},
   "outputs": [],
   "source": [
    "logins.toPandas().to_feather('output.feather')"
   ]
  },
  {
   "cell_type": "code",
   "execution_count": null,
   "id": "603ca092-b44f-435f-9593-9eb2a809db71",
   "metadata": {},
   "outputs": [],
   "source": []
  }
 ],
 "metadata": {
  "kernelspec": {
   "display_name": "Python 3 (ipykernel)",
   "language": "python",
   "name": "python3"
  },
  "language_info": {
   "codemirror_mode": {
    "name": "ipython",
    "version": 3
   },
   "file_extension": ".py",
   "mimetype": "text/x-python",
   "name": "python",
   "nbconvert_exporter": "python",
   "pygments_lexer": "ipython3",
   "version": "3.11.7"
  }
 },
 "nbformat": 4,
 "nbformat_minor": 5
}
