{
 "cells": [
  {
   "cell_type": "code",
   "execution_count": null,
   "id": "973f34cb-7d7a-4cee-b99d-d40467285f02",
   "metadata": {},
   "outputs": [],
   "source": [
    "!pip install pyspark findspark"
   ]
  },
  {
   "cell_type": "code",
   "execution_count": null,
   "id": "f71c54c2-969b-4e95-88c0-a6a1fec6357e",
   "metadata": {},
   "outputs": [],
   "source": [
    "import findspark\n",
    "findspark.init()"
   ]
  },
  {
   "cell_type": "code",
   "execution_count": null,
   "id": "4d72a8c1-2b3e-4c19-bee2-b32527500660",
   "metadata": {},
   "outputs": [],
   "source": [
    "from pyspark.sql import SparkSession\n",
    "import pyspark.sql.functions as F"
   ]
  },
  {
   "cell_type": "code",
   "execution_count": null,
   "id": "7b1a1053-e355-4c70-b6f3-54edd45e8266",
   "metadata": {},
   "outputs": [],
   "source": [
    "spark = (\n",
    "    SparkSession.builder.master('local[*]')\n",
    "    .appName('Convertendo em Pandas')\n",
    "    .config('spark.sql.legacy.timeParserPolicy', 'LEGACY')\n",
    "    .getOrCreate()\n",
    ")"
   ]
  },
  {
   "cell_type": "code",
   "execution_count": null,
   "id": "8b4dd48a-23a9-4b3a-bcee-1a48380b68af",
   "metadata": {},
   "outputs": [],
   "source": [
    "spark"
   ]
  },
  {
   "cell_type": "code",
   "execution_count": null,
   "id": "881982fc-45ed-4afb-9669-3777a5acff17",
   "metadata": {},
   "outputs": [],
   "source": [
    "logins = spark.read.parquet('./DATASETS/LOGINS.parquet')"
   ]
  },
  {
   "cell_type": "code",
   "execution_count": null,
   "id": "e7abfb75-dd88-4147-b2cd-114d85eebf99",
   "metadata": {},
   "outputs": [],
   "source": [
    "type(logins)"
   ]
  },
  {
   "cell_type": "code",
   "execution_count": null,
   "id": "ae1c95b8-7087-4988-a9f1-e0b0ed652685",
   "metadata": {},
   "outputs": [],
   "source": [
    "pdf = logins.toPandas()"
   ]
  },
  {
   "cell_type": "code",
   "execution_count": null,
   "id": "c6b5723f-e527-42b1-ad45-fff85c52c9ce",
   "metadata": {},
   "outputs": [],
   "source": [
    "type(pdf)"
   ]
  },
  {
   "cell_type": "code",
   "execution_count": null,
   "id": "ab21bb49-3bec-4cc3-b8ca-d6ee9116da50",
   "metadata": {},
   "outputs": [],
   "source": [
    "!pip install pandas"
   ]
  },
  {
   "cell_type": "code",
   "execution_count": null,
   "id": "7b8e59b4-05a9-4922-a755-2f2d9c1d27d1",
   "metadata": {},
   "outputs": [],
   "source": [
    "import pandas as pd"
   ]
  },
  {
   "cell_type": "code",
   "execution_count": null,
   "id": "3a5156aa-3269-48e9-936f-36d549f30d50",
   "metadata": {},
   "outputs": [],
   "source": [
    "logins.collect()"
   ]
  },
  {
   "cell_type": "code",
   "execution_count": null,
   "id": "968bee1b-0029-40e2-95f2-01201519ea5c",
   "metadata": {},
   "outputs": [],
   "source": [
    "pdf = pd.DataFrame(logins.collect(), columns=logins.columns)"
   ]
  },
  {
   "cell_type": "code",
   "execution_count": null,
   "id": "18ddbcd9-9a40-410a-9bfc-506129e709ca",
   "metadata": {},
   "outputs": [],
   "source": [
    "type(pdf)"
   ]
  },
  {
   "cell_type": "code",
   "execution_count": null,
   "id": "90b08e35-4c2e-4277-ad6e-391d12478e86",
   "metadata": {},
   "outputs": [],
   "source": [
    "import pyspark.pandas as ps"
   ]
  },
  {
   "cell_type": "code",
   "execution_count": null,
   "id": "dffe53d5-a54f-41e6-b383-c989fcc703b0",
   "metadata": {},
   "outputs": [],
   "source": [
    "pdf2 = ps.DataFrame(pdf).to_spark()"
   ]
  },
  {
   "cell_type": "code",
   "execution_count": null,
   "id": "5ed4389c-737e-41c8-9dc7-7fc86030e605",
   "metadata": {},
   "outputs": [],
   "source": [
    "type(pdf2)"
   ]
  }
 ],
 "metadata": {
  "kernelspec": {
   "display_name": "Python 3 (ipykernel)",
   "language": "python",
   "name": "python3"
  },
  "language_info": {
   "codemirror_mode": {
    "name": "ipython",
    "version": 3
   },
   "file_extension": ".py",
   "mimetype": "text/x-python",
   "name": "python",
   "nbconvert_exporter": "python",
   "pygments_lexer": "ipython3",
   "version": "3.11.7"
  }
 },
 "nbformat": 4,
 "nbformat_minor": 5
}
