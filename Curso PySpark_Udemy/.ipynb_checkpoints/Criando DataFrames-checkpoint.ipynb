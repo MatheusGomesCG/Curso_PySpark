{
 "cells": [
  {
   "cell_type": "code",
   "execution_count": null,
   "id": "998a1cc7-8bc7-4b2d-bf9f-7a0a15bcbfb5",
   "metadata": {},
   "outputs": [],
   "source": [
    "!pip install pyspark findspark"
   ]
  },
  {
   "cell_type": "code",
   "execution_count": null,
   "id": "7d326f91-b075-4ce5-b5a5-e34aa0e149a8",
   "metadata": {},
   "outputs": [],
   "source": [
    "import findspark\n",
    "findspark.init()"
   ]
  },
  {
   "cell_type": "code",
   "execution_count": null,
   "id": "201b6b4a-a25e-4d9f-93ea-e49b61a946db",
   "metadata": {},
   "outputs": [],
   "source": [
    "from pyspark.sql import SparkSession\n",
    "import pyspark.sql.functions as F\n",
    "from pyspark.sql.types import StructType, StructField, StringType, IntegerType"
   ]
  },
  {
   "cell_type": "code",
   "execution_count": null,
   "id": "d8097f23-b776-4763-9daa-8d33d3188a53",
   "metadata": {},
   "outputs": [],
   "source": [
    "spark = (\n",
    "    SparkSession.builder.master('local[*]')\n",
    "    .appName('Criando Dataframes')\n",
    "    .config('spark.sql.repl.eagerEval.enabled', True)\n",
    "    .getOrCreate()\n",
    ")"
   ]
  },
  {
   "cell_type": "code",
   "execution_count": null,
   "id": "223a12fa-873e-4e68-9b34-1a8d730b4650",
   "metadata": {},
   "outputs": [],
   "source": [
    "spark"
   ]
  },
  {
   "cell_type": "markdown",
   "id": "149912b0-b728-4481-88dc-08172d40b788",
   "metadata": {},
   "source": [
    "# Dicionário"
   ]
  },
  {
   "cell_type": "code",
   "execution_count": null,
   "id": "8d0ae6ea-e1e3-4bc9-871c-d89468f2e111",
   "metadata": {},
   "outputs": [],
   "source": [
    "dados = [\n",
    "    {'nome': 'Dalton', 'idade': 27}, \n",
    "    {'nome': 'Matheus', 'idade': 28},\n",
    "    {'nome': 'Rebeca', 'idade': 28}\n",
    "]"
   ]
  },
  {
   "cell_type": "code",
   "execution_count": null,
   "id": "a960c85f-0265-4084-a0e9-cb491478930b",
   "metadata": {},
   "outputs": [],
   "source": [
    "schema = StructType([\n",
    "    StructField(\"nome\", StringType(), True),\n",
    "    StructField(\"idade\", IntegerType(), True)\n",
    "])"
   ]
  },
  {
   "cell_type": "code",
   "execution_count": null,
   "id": "4a1ead04-031c-487f-a9b7-6280fb2f338d",
   "metadata": {},
   "outputs": [],
   "source": [
    "df = spark.createDataFrame(dados, schema)"
   ]
  },
  {
   "cell_type": "code",
   "execution_count": null,
   "id": "36f65494-b304-48bd-95d4-25557dbd0f69",
   "metadata": {},
   "outputs": [],
   "source": [
    "dados2 = [\n",
    "    ('Dalton', 27),\n",
    "    ('Alice', 41),\n",
    "    ('Lara', 25)\n",
    "]"
   ]
  },
  {
   "cell_type": "markdown",
   "id": "67c8f979-863a-49bd-b34a-d202228c3e66",
   "metadata": {},
   "source": [
    "# Tupla"
   ]
  },
  {
   "cell_type": "code",
   "execution_count": null,
   "id": "85777370-584f-4136-9d1b-a0842614c4d2",
   "metadata": {},
   "outputs": [],
   "source": [
    "dados2"
   ]
  },
  {
   "cell_type": "code",
   "execution_count": null,
   "id": "42787e1e-f80b-4e11-abf3-d265ad051f5b",
   "metadata": {},
   "outputs": [],
   "source": [
    "df2 = spark.createDataFrame(dados2, ['nome', 'idade'])"
   ]
  },
  {
   "cell_type": "markdown",
   "id": "6c5a3b2f-1fd2-4b1e-8428-7caf22261da1",
   "metadata": {},
   "source": [
    "# Schema com o tipo de dado"
   ]
  },
  {
   "cell_type": "code",
   "execution_count": null,
   "id": "57272b9c-3d29-4786-838e-f2d1aa4820d7",
   "metadata": {},
   "outputs": [],
   "source": [
    "schema = StructType([\n",
    "    StructField('nome', StringType(), True),\n",
    "    StructField('idade', IntegerType(), True)\n",
    "])"
   ]
  },
  {
   "cell_type": "code",
   "execution_count": null,
   "id": "0876a13d-77c4-4117-be08-961b108bd435",
   "metadata": {},
   "outputs": [],
   "source": [
    "schema"
   ]
  },
  {
   "cell_type": "code",
   "execution_count": null,
   "id": "19fdf432-f23c-4bbd-adb9-bec5e850f44e",
   "metadata": {},
   "outputs": [],
   "source": [
    "df3 = spark.createDataFrame(dados2, schema)"
   ]
  },
  {
   "cell_type": "markdown",
   "id": "666538b5-1202-4c06-949a-4f67f98cb14a",
   "metadata": {},
   "source": [
    "# Usando a estrutura Row"
   ]
  },
  {
   "cell_type": "code",
   "execution_count": null,
   "id": "f7f4d202-f068-4909-b160-0679c86a5f65",
   "metadata": {},
   "outputs": [],
   "source": [
    "from pyspark.sql import Row"
   ]
  },
  {
   "cell_type": "code",
   "execution_count": null,
   "id": "105b4e1f-eee4-4d6e-b5ba-1ad341efe383",
   "metadata": {},
   "outputs": [],
   "source": [
    "rdd = [\n",
    "    Row('Dalton', 27),\n",
    "    Row('Matheus', 28)\n",
    "]"
   ]
  },
  {
   "cell_type": "code",
   "execution_count": null,
   "id": "fcd53d2b-1067-47ff-a54f-c6ee6859bac4",
   "metadata": {},
   "outputs": [],
   "source": [
    "rdd"
   ]
  },
  {
   "cell_type": "code",
   "execution_count": null,
   "id": "be8f4dfe-c871-4d51-9739-b7a912a00a57",
   "metadata": {},
   "outputs": [],
   "source": [
    "spark.createDataFrame(rdd, \"_1: string, _2: int\")"
   ]
  },
  {
   "cell_type": "code",
   "execution_count": null,
   "id": "8eb4385b-0a02-421b-943f-dfeebe6fa122",
   "metadata": {},
   "outputs": [],
   "source": []
  }
 ],
 "metadata": {
  "kernelspec": {
   "display_name": "Python 3 (ipykernel)",
   "language": "python",
   "name": "python3"
  },
  "language_info": {
   "codemirror_mode": {
    "name": "ipython",
    "version": 3
   },
   "file_extension": ".py",
   "mimetype": "text/x-python",
   "name": "python",
   "nbconvert_exporter": "python",
   "pygments_lexer": "ipython3",
   "version": "3.11.7"
  }
 },
 "nbformat": 4,
 "nbformat_minor": 5
}
