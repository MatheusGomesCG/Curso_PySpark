{
 "cells": [
  {
   "cell_type": "code",
   "execution_count": 1,
   "id": "11a47c05-0b81-4581-9258-0dec3668807e",
   "metadata": {},
   "outputs": [
    {
     "name": "stdout",
     "output_type": "stream",
     "text": [
      "Requirement already satisfied: pyspark in /home/casa/anaconda3/lib/python3.11/site-packages (3.3.2)\n",
      "Requirement already satisfied: findspark in /home/casa/anaconda3/lib/python3.11/site-packages (2.0.1)\n",
      "Requirement already satisfied: py4j==0.10.9.5 in /home/casa/anaconda3/lib/python3.11/site-packages (from pyspark) (0.10.9.5)\n"
     ]
    }
   ],
   "source": [
    "!pip install pyspark findspark"
   ]
  },
  {
   "cell_type": "code",
   "execution_count": 2,
   "id": "d9befdb5-975a-4dce-a637-f882693f1640",
   "metadata": {},
   "outputs": [],
   "source": [
    "import findspark\n",
    "findspark.init()"
   ]
  },
  {
   "cell_type": "code",
   "execution_count": 5,
   "id": "ca67cc16-c9e3-4c65-9407-af3669b6762c",
   "metadata": {},
   "outputs": [],
   "source": [
    "from pyspark.sql import SparkSession\n",
    "import pyspark.sql.functions as F"
   ]
  },
  {
   "cell_type": "code",
   "execution_count": null,
   "id": "3299331e-7192-48e0-be0c-1ae2cc896a9b",
   "metadata": {},
   "outputs": [],
   "source": [
    "spark = (\n",
    "    SparkSession.builder.master('local[*]')\n",
    "    .appName('Criar funções personalizadas')\n",
    "    .config('spark.sql.legacy.timeParserPolicy', 'LEGACY')\n",
    "    .getOrCreate()\n",
    ")"
   ]
  },
  {
   "cell_type": "code",
   "execution_count": 7,
   "id": "92bfc1d8-66b3-4f64-a1f8-d192a69dc006",
   "metadata": {},
   "outputs": [],
   "source": [
    "logins = spark.read.parquet('./DATASETS/LOGINS.parquet')"
   ]
  },
  {
   "cell_type": "code",
   "execution_count": 12,
   "id": "3ae260f9-396d-404c-82d6-f5c63c82f263",
   "metadata": {},
   "outputs": [],
   "source": [
    "from pyspark.sql.functions import udf\n",
    "from pyspark.sql.types import StringType"
   ]
  },
  {
   "cell_type": "markdown",
   "id": "2ecc0760-8048-4657-b3e1-a223a5d8f5bc",
   "metadata": {},
   "source": [
    "### https://spark.apache.org/docs/latest/sql-ref-datatypes.html"
   ]
  },
  {
   "cell_type": "code",
   "execution_count": 24,
   "id": "6571f46f-ce7c-4697-9213-6ef3e160e680",
   "metadata": {},
   "outputs": [],
   "source": [
    "@udf(returnType = StringType())\n",
    "def nome_estado(sigla):\n",
    "    if sigla == 'SP':\n",
    "        return 'São Paulo'\n",
    "    elif sigla == 'RJ':\n",
    "        return 'Rio de Janeiro'\n",
    "    else:\n",
    "        return 'Outros'"
   ]
  },
  {
   "cell_type": "code",
   "execution_count": 25,
   "id": "0791ec99-e182-4583-b6b2-9caa1d6b4513",
   "metadata": {},
   "outputs": [
    {
     "data": {
      "text/plain": [
       "function"
      ]
     },
     "execution_count": 25,
     "metadata": {},
     "output_type": "execute_result"
    }
   ],
   "source": [
    "type(nome_estado)"
   ]
  },
  {
   "cell_type": "code",
   "execution_count": 21,
   "id": "a8fc3b84-5d96-4c97-b89d-5d9a49416153",
   "metadata": {},
   "outputs": [],
   "source": [
    "df2 = logins.select('estado', nome_estado('estado'))"
   ]
  },
  {
   "cell_type": "code",
   "execution_count": null,
   "id": "85402550-e93a-4d57-aa42-57b093c43240",
   "metadata": {},
   "outputs": [],
   "source": [
    "df2.show()"
   ]
  }
 ],
 "metadata": {
  "kernelspec": {
   "display_name": "Python 3 (ipykernel)",
   "language": "python",
   "name": "python3"
  },
  "language_info": {
   "codemirror_mode": {
    "name": "ipython",
    "version": 3
   },
   "file_extension": ".py",
   "mimetype": "text/x-python",
   "name": "python",
   "nbconvert_exporter": "python",
   "pygments_lexer": "ipython3",
   "version": "3.11.7"
  }
 },
 "nbformat": 4,
 "nbformat_minor": 5
}
