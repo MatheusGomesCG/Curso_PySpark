{
 "cells": [
  {
   "cell_type": "code",
   "execution_count": 4,
   "id": "6b98b236-9e0e-4e20-9523-814cb4715f48",
   "metadata": {},
   "outputs": [
    {
     "name": "stdout",
     "output_type": "stream",
     "text": [
      "Requirement already satisfied: pyspark in /home/casa/anaconda3/lib/python3.11/site-packages (3.3.2)\n",
      "Requirement already satisfied: findspark in /home/casa/anaconda3/lib/python3.11/site-packages (2.0.1)\n",
      "Requirement already satisfied: py4j==0.10.9.5 in /home/casa/anaconda3/lib/python3.11/site-packages (from pyspark) (0.10.9.5)\n"
     ]
    }
   ],
   "source": [
    "!pip install pyspark findspark"
   ]
  },
  {
   "cell_type": "code",
   "execution_count": 5,
   "id": "ddb5833d-556d-47b4-ac76-6006e9d0895d",
   "metadata": {},
   "outputs": [],
   "source": [
    "import findspark\n",
    "findspark.init()"
   ]
  },
  {
   "cell_type": "code",
   "execution_count": 6,
   "id": "67e6364f-496d-4689-84ff-39e257ff138b",
   "metadata": {},
   "outputs": [],
   "source": [
    "from pyspark.sql import SparkSession\n",
    "import pyspark.sql.functions as F"
   ]
  },
  {
   "cell_type": "code",
   "execution_count": 7,
   "id": "b66f5a50-8188-4ea4-9a5e-16365a107b91",
   "metadata": {},
   "outputs": [
    {
     "name": "stdout",
     "output_type": "stream",
     "text": [
      "24/05/02 10:17:53 WARN Utils: Your hostname, casa-Default-string resolves to a loopback address: 127.0.1.1; using 192.168.0.9 instead (on interface enp7s0)\n",
      "24/05/02 10:17:53 WARN Utils: Set SPARK_LOCAL_IP if you need to bind to another address\n"
     ]
    },
    {
     "name": "stderr",
     "output_type": "stream",
     "text": [
      "Setting default log level to \"WARN\".\n",
      "To adjust logging level use sc.setLogLevel(newLevel). For SparkR, use setLogLevel(newLevel).\n"
     ]
    },
    {
     "name": "stdout",
     "output_type": "stream",
     "text": [
      "24/05/02 10:17:54 WARN NativeCodeLoader: Unable to load native-hadoop library for your platform... using builtin-java classes where applicable\n"
     ]
    }
   ],
   "source": [
    "spark = (\n",
    "    SparkSession.builder.master(\"local[*]\")\n",
    "    .appName('Curso PySpark')\n",
    "    .config('spark.sql.legacy.timeParserPolicy', 'LEGACY')\n",
    "    .getOrCreate()\n",
    ")"
   ]
  },
  {
   "cell_type": "code",
   "execution_count": 8,
   "id": "22eec243-29d5-4e73-8130-f5cd3e3fecc9",
   "metadata": {},
   "outputs": [
    {
     "data": {
      "text/html": [
       "\n",
       "            <div>\n",
       "                <p><b>SparkSession - in-memory</b></p>\n",
       "                \n",
       "        <div>\n",
       "            <p><b>SparkContext</b></p>\n",
       "\n",
       "            <p><a href=\"http://192.168.0.9:4040\">Spark UI</a></p>\n",
       "\n",
       "            <dl>\n",
       "              <dt>Version</dt>\n",
       "                <dd><code>v3.3.2</code></dd>\n",
       "              <dt>Master</dt>\n",
       "                <dd><code>local[*]</code></dd>\n",
       "              <dt>AppName</dt>\n",
       "                <dd><code>Curso PySpark</code></dd>\n",
       "            </dl>\n",
       "        </div>\n",
       "        \n",
       "            </div>\n",
       "        "
      ],
      "text/plain": [
       "<pyspark.sql.session.SparkSession at 0x758d0c2be710>"
      ]
     },
     "execution_count": 8,
     "metadata": {},
     "output_type": "execute_result"
    }
   ],
   "source": [
    "spark"
   ]
  },
  {
   "cell_type": "code",
   "execution_count": 9,
   "id": "d6613e6f-6a88-4bc2-b2ee-2c91f474a2f8",
   "metadata": {},
   "outputs": [],
   "source": [
    "df = spark.read.parquet('./DATASETS/LOGINS.parquet').select('data_de_nascimento','data_cadastro')"
   ]
  },
  {
   "cell_type": "code",
   "execution_count": 13,
   "id": "9fb27781-8ed4-4129-b1f0-b25c77b81231",
   "metadata": {},
   "outputs": [
    {
     "name": "stdout",
     "output_type": "stream",
     "text": [
      "+------------------+-------------+\n",
      "|data_de_nascimento|data_cadastro|\n",
      "+------------------+-------------+\n",
      "|2006-12-18        |2023-02-26   |\n",
      "|1992-06-17        |2023-02-16   |\n",
      "|1921-11-11        |2023-01-02   |\n",
      "|2021-06-01        |2023-01-08   |\n",
      "|1969-10-28        |2023-02-14   |\n",
      "+------------------+-------------+\n",
      "only showing top 5 rows\n",
      "\n"
     ]
    }
   ],
   "source": [
    "df.show(5,False)"
   ]
  },
  {
   "cell_type": "code",
   "execution_count": 11,
   "id": "d96d5ea0-010a-4e85-9fe2-50f9777f2d34",
   "metadata": {},
   "outputs": [
    {
     "name": "stdout",
     "output_type": "stream",
     "text": [
      "+------------------+-------------+----------+----------+\n",
      "|data_de_nascimento|data_cadastro|dayofmonth|to_date   |\n",
      "+------------------+-------------+----------+----------+\n",
      "|2006-12-18        |2023-02-26   |18        |2020-08-01|\n",
      "|1992-06-17        |2023-02-16   |17        |2020-08-01|\n",
      "|1921-11-11        |2023-01-02   |11        |2020-08-01|\n",
      "|2021-06-01        |2023-01-08   |1         |2020-08-01|\n",
      "|1969-10-28        |2023-02-14   |28        |2020-08-01|\n",
      "+------------------+-------------+----------+----------+\n",
      "only showing top 5 rows\n",
      "\n"
     ]
    }
   ],
   "source": [
    "# https://spark.apache.org/docs/3.5.1/sql-ref-datetime-pattern.html#content\n",
    "(\n",
    "    df\n",
    "    # Soma/subtrai meses a data recebida como arg\n",
    "    # .withColumn('add_months', F.add_months(F.col('data_cadastro'), 1))\n",
    "    # .withColumn('add_months2', F.add_months(F.col('data_cadastro'), -1))\n",
    "\n",
    "    # Adiocionar/Subtrair dias\n",
    "    # .withColumn('date_add', F.date_add(F.col('data_cadastro'), 15))\n",
    "    # .withColumn('date_add2', F.date_add(F.col('data_cadastro'), -2))\n",
    "    # .withColumn('date_sub', F.date_sub(F.col('data_cadastro'), 2))\n",
    "    \n",
    "    # pegar data atual do sistema\n",
    "    # .withColumn('current_date', F.current_date())\n",
    "    # .withColumn('current_timestamp', F.current_timestamp())\n",
    "\n",
    "    # formatar data\n",
    "    # .withColumn('date_format', F.date_format(F.col('data_de_nascimento'), 'E, d MMM y'))\n",
    "    # # Retorna o valor em dias\n",
    "    # .withColumn('datadiff',F.abs(F.datediff(F.col('data_de_nascimento'),F.current_date())))\n",
    "    # .withColumn('dayofmonth', F.dayofmonth(F.col('data_de_nascimento')))\n",
    "    # .withColumn('dayofweek', F.dayofweek(F.col('data_de_nascimento')))\n",
    "    # .withColumn('weekofyear', F.weekofyear(F.col('data_de_nascimento')))\n",
    "    # .withColumn('year', F.year(F.col('data_de_nascimento')))\n",
    "    # .withColumn('month', F.month(F.col('data_de_nascimento')))\n",
    "    # .withColumn('last_day', F.last_day(F.col('data_de_nascimento'))) #último dia do Mês\n",
    "    # .withColumn('months_between', F.months_between(F.current_date(), F.col('data_de_nascimento')))\n",
    "    # .withColumn('next_day', F.next_day(F.col('data_cadastro'), 'Mon')) #retorna a próxima dia da semana como argumento\n",
    "    # .withColumn('make_date', F.make_date(F.lit(2020), F.lit(8), F.lit(1)))\n",
    "    .withColumn('to_date', F.to_date(F.lit('2020-08-01')))\n",
    "    .show(5, False)\n",
    ")"
   ]
  },
  {
   "cell_type": "code",
   "execution_count": null,
   "id": "59d9c989-3819-48d6-8a76-0ab14c53123b",
   "metadata": {},
   "outputs": [],
   "source": []
  }
 ],
 "metadata": {
  "kernelspec": {
   "display_name": "Python 3 (ipykernel)",
   "language": "python",
   "name": "python3"
  },
  "language_info": {
   "codemirror_mode": {
    "name": "ipython",
    "version": 3
   },
   "file_extension": ".py",
   "mimetype": "text/x-python",
   "name": "python",
   "nbconvert_exporter": "python",
   "pygments_lexer": "ipython3",
   "version": "3.11.7"
  }
 },
 "nbformat": 4,
 "nbformat_minor": 5
}
