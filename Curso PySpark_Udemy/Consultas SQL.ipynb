{
 "cells": [
  {
   "cell_type": "code",
   "execution_count": 1,
   "id": "54a254c6-9268-43e8-b3f9-20942bb2709c",
   "metadata": {},
   "outputs": [
    {
     "name": "stdout",
     "output_type": "stream",
     "text": [
      "Requirement already satisfied: pyspark in /home/casa/anaconda3/lib/python3.11/site-packages (3.3.2)\n",
      "Requirement already satisfied: findspark in /home/casa/anaconda3/lib/python3.11/site-packages (2.0.1)\n",
      "Requirement already satisfied: py4j==0.10.9.5 in /home/casa/anaconda3/lib/python3.11/site-packages (from pyspark) (0.10.9.5)\n"
     ]
    }
   ],
   "source": [
    "!pip install pyspark findspark"
   ]
  },
  {
   "cell_type": "code",
   "execution_count": 2,
   "id": "1910c122-a9bb-4535-8ac5-ab423b469749",
   "metadata": {},
   "outputs": [],
   "source": [
    "import findspark\n",
    "findspark.init()"
   ]
  },
  {
   "cell_type": "code",
   "execution_count": 3,
   "id": "c217a7d2-1aad-49ce-8483-230d92172a5d",
   "metadata": {},
   "outputs": [],
   "source": [
    "from pyspark.sql import SparkSession\n",
    "import pyspark.sql.functions as F"
   ]
  },
  {
   "cell_type": "code",
   "execution_count": 4,
   "id": "85b73c0a-ad13-4407-9da0-326a912404b9",
   "metadata": {},
   "outputs": [
    {
     "name": "stdout",
     "output_type": "stream",
     "text": [
      "24/05/03 09:48:36 WARN Utils: Your hostname, casa-Default-string resolves to a loopback address: 127.0.1.1; using 192.168.0.9 instead (on interface enp7s0)\n",
      "24/05/03 09:48:36 WARN Utils: Set SPARK_LOCAL_IP if you need to bind to another address\n"
     ]
    },
    {
     "name": "stderr",
     "output_type": "stream",
     "text": [
      "Setting default log level to \"WARN\".\n",
      "To adjust logging level use sc.setLogLevel(newLevel). For SparkR, use setLogLevel(newLevel).\n"
     ]
    },
    {
     "name": "stdout",
     "output_type": "stream",
     "text": [
      "24/05/03 09:48:37 WARN NativeCodeLoader: Unable to load native-hadoop library for your platform... using builtin-java classes where applicable\n"
     ]
    }
   ],
   "source": [
    "spark = (\n",
    "    SparkSession.builder.master('local[*]')\n",
    "    .appName('Realizando consultas SQL')\n",
    "    .config('spark.sql.legacy.timeParserPolicy', 'LEGACY')\n",
    "    .getOrCreate()\n",
    ")"
   ]
  },
  {
   "cell_type": "code",
   "execution_count": 5,
   "id": "31a5c2f8-02da-40c3-bd5c-d5706b530f14",
   "metadata": {},
   "outputs": [
    {
     "data": {
      "text/html": [
       "\n",
       "            <div>\n",
       "                <p><b>SparkSession - in-memory</b></p>\n",
       "                \n",
       "        <div>\n",
       "            <p><b>SparkContext</b></p>\n",
       "\n",
       "            <p><a href=\"http://192.168.0.9:4040\">Spark UI</a></p>\n",
       "\n",
       "            <dl>\n",
       "              <dt>Version</dt>\n",
       "                <dd><code>v3.3.2</code></dd>\n",
       "              <dt>Master</dt>\n",
       "                <dd><code>local[*]</code></dd>\n",
       "              <dt>AppName</dt>\n",
       "                <dd><code>Realizando consultas SQL</code></dd>\n",
       "            </dl>\n",
       "        </div>\n",
       "        \n",
       "            </div>\n",
       "        "
      ],
      "text/plain": [
       "<pyspark.sql.session.SparkSession at 0x707b65b99290>"
      ]
     },
     "execution_count": 5,
     "metadata": {},
     "output_type": "execute_result"
    }
   ],
   "source": [
    "spark"
   ]
  },
  {
   "cell_type": "code",
   "execution_count": 6,
   "id": "e2d8094b-e0fe-427a-86ce-28ccc51ce8a2",
   "metadata": {},
   "outputs": [
    {
     "name": "stderr",
     "output_type": "stream",
     "text": [
      "                                                                                \r"
     ]
    }
   ],
   "source": [
    "logins = spark.read.parquet('./DATASETS/LOGINS.parquet')"
   ]
  },
  {
   "cell_type": "code",
   "execution_count": 7,
   "id": "5aab93a2-3007-4e6c-9bf9-00695482c2c9",
   "metadata": {},
   "outputs": [
    {
     "name": "stdout",
     "output_type": "stream",
     "text": [
      "+--------------+--------------------+----------+------------------+------+-------------+---------------+------------+--------------------+-------------------+\n",
      "|           cpf|               email|     senha|data_de_nascimento|estado|data_cadastro|           ipv4|cor_favorita|           profissao|           telefone|\n",
      "+--------------+--------------------+----------+------------------+------+-------------+---------------+------------+--------------------+-------------------+\n",
      "|981.507.362-12|pedro-lucas53@gma...|+7^7E%xFBc|        2006-12-18|    RR|   2023-02-26| 99.107.250.210|        Roxo|    Jogador De Golfe|       31 7785-4046|\n",
      "|493.705.168-75|rezendeisaac@hotm...|_O_2GRnGOe|        1992-06-17|    GO|   2023-02-16|  197.11.26.213|       Ciano|Atleta De Arremes...|    (031) 0803-6753|\n",
      "|509.287.143-14|   pmendes@gmail.com|M+^XDBfe(2|        1938-03-11|    RR|   2023-01-19|  61.234.208.17| Verde Claro|              Fiscal|+55 (084) 5940-1932|\n",
      "|610.287.453-62|cardosolivia@ig.c...|yXkDW7Ebh*|        1915-11-15|    GO|   2023-01-22| 195.194.63.184|     Laranja|            Barbeiro|   +55 61 8967-9563|\n",
      "|170.965.428-76|     qdias@gmail.com|6z5AgU_##v|        1995-08-17|    GO|   2023-02-02|197.248.140.141|       Verde|             Auditor|       84 9168 0488|\n",
      "|807.695.421-58|joao-guilhermeda-...|Z^9Og04O*(|        2008-11-04|    GO|   2023-01-06|   45.56.63.111|        Roxo| Promotor De Eventos|   +55 81 9388-4795|\n",
      "|607.291.534-52|maria-julia70@bol...|@(fO&ei%1e|        1953-08-28|    GO|   2023-01-10| 10.121.107.117| Azul Escuro|     Técnico Em Rede|    (031) 3689 5367|\n",
      "|041.237.869-87|  dcampos@bol.com.br|$v0JLNYa#1|        1968-03-29|    GO|   2023-03-11| 71.231.219.114| Azul Escuro|   Gerente De Vendas|    (041) 4975-8677|\n",
      "|371.849.256-37|    bsouza@ig.com.br|y8JpBdaD#)|        1978-04-13|    GO|   2023-02-11|  47.173.23.135|      Marrom|            Mecânico|   +55 61 0987 5226|\n",
      "|907.154.268-85|bryancampos@ig.co...|iji*Bp0m(1|        1909-09-29|    RR|   2023-01-23|  78.243.210.49|     Magenta|          Gastrônomo|+55 (021) 3837 9360|\n",
      "|932.567.014-34|  caio40@hotmail.com|2UQ2p)5q@Y|        1986-01-31|    GO|   2023-01-22| 112.23.224.126|        Azul|           Flautista|+55 (081) 5756-7067|\n",
      "|723.419.058-97|  joana43@uol.com.br|vk7R1o#zI!|        1936-01-31|    RR|   2023-02-07|  23.153.28.160|        Azul|  Jogador De Futebol|      0900 150 4170|\n",
      "|517.264.980-85|ana-sophiajesus@b...|w9jTwVpj_r|        2018-01-04|    GO|   2023-01-10| 163.253.182.70|     Amarelo|  Jogador De Boliche|      0800-940-3789|\n",
      "|603.248.715-62|franciscoda-cunha...|h+7L0$mjaA|        1992-10-08|    RR|   2023-02-04|  26.166.234.56|       Cinza|             Regente|    (071) 8308 3783|\n",
      "|562.479.831-82|rezendelarissa@ho...|!6KVzmqd7L|        1985-08-24|    RR|   2023-02-23|    146.16.47.6| Azul Escuro|             Capitão|   +55 71 7296 7623|\n",
      "|382.475.016-35|lopesenzo@yahoo.c...|)4dExFybO5|        1961-09-16|    GO|   2023-01-04|115.205.238.140|     Amarelo|        Argumentista|+55 (021) 8133 3501|\n",
      "|124.387.069-96|pdas-neves@yahoo....|3^T9ePTK6w|        1970-11-05|    GO|   2023-02-13|    15.193.25.3| Azul Escuro|          Agricultor|    (071) 0735 9084|\n",
      "|916.872.450-02|renanmartins@bol....|&R0_tWXgAG|        2006-06-22|    GO|   2023-03-11|126.156.144.168|Verde Escuro|Profissional De C...|      0800-822-9241|\n",
      "|271.905.486-02|ana-vitoria77@hot...|I*Sm2Ozyi$|        2011-04-01|    RR|   2023-01-30|  124.57.122.33|     Amarelo|          Mãe Social|   +55 61 0561 0784|\n",
      "|624.093.875-00|maria-fernandacal...|G3(9eEjO+I|        1941-11-18|    RR|   2023-01-28| 153.235.212.60|     Laranja|     Guarda Roupeiro|       71 9618-5649|\n",
      "+--------------+--------------------+----------+------------------+------+-------------+---------------+------------+--------------------+-------------------+\n",
      "only showing top 20 rows\n",
      "\n"
     ]
    }
   ],
   "source": [
    "logins.where(F.col('estado').isin('RR', 'GO')).show()"
   ]
  },
  {
   "cell_type": "code",
   "execution_count": 8,
   "id": "a86c84e7-9da5-4def-b09f-1f84a1544842",
   "metadata": {},
   "outputs": [
    {
     "name": "stdout",
     "output_type": "stream",
     "text": [
      "+--------------+--------------------+----------+------------------+------+-------------+---------------+------------+--------------------+-------------------+\n",
      "|           cpf|               email|     senha|data_de_nascimento|estado|data_cadastro|           ipv4|cor_favorita|           profissao|           telefone|\n",
      "+--------------+--------------------+----------+------------------+------+-------------+---------------+------------+--------------------+-------------------+\n",
      "|981.507.362-12|pedro-lucas53@gma...|+7^7E%xFBc|        2006-12-18|    RR|   2023-02-26| 99.107.250.210|        Roxo|    Jogador De Golfe|       31 7785-4046|\n",
      "|493.705.168-75|rezendeisaac@hotm...|_O_2GRnGOe|        1992-06-17|    GO|   2023-02-16|  197.11.26.213|       Ciano|Atleta De Arremes...|    (031) 0803-6753|\n",
      "|509.287.143-14|   pmendes@gmail.com|M+^XDBfe(2|        1938-03-11|    RR|   2023-01-19|  61.234.208.17| Verde Claro|              Fiscal|+55 (084) 5940-1932|\n",
      "|610.287.453-62|cardosolivia@ig.c...|yXkDW7Ebh*|        1915-11-15|    GO|   2023-01-22| 195.194.63.184|     Laranja|            Barbeiro|   +55 61 8967-9563|\n",
      "|170.965.428-76|     qdias@gmail.com|6z5AgU_##v|        1995-08-17|    GO|   2023-02-02|197.248.140.141|       Verde|             Auditor|       84 9168 0488|\n",
      "|807.695.421-58|joao-guilhermeda-...|Z^9Og04O*(|        2008-11-04|    GO|   2023-01-06|   45.56.63.111|        Roxo| Promotor De Eventos|   +55 81 9388-4795|\n",
      "|607.291.534-52|maria-julia70@bol...|@(fO&ei%1e|        1953-08-28|    GO|   2023-01-10| 10.121.107.117| Azul Escuro|     Técnico Em Rede|    (031) 3689 5367|\n",
      "|041.237.869-87|  dcampos@bol.com.br|$v0JLNYa#1|        1968-03-29|    GO|   2023-03-11| 71.231.219.114| Azul Escuro|   Gerente De Vendas|    (041) 4975-8677|\n",
      "|371.849.256-37|    bsouza@ig.com.br|y8JpBdaD#)|        1978-04-13|    GO|   2023-02-11|  47.173.23.135|      Marrom|            Mecânico|   +55 61 0987 5226|\n",
      "|907.154.268-85|bryancampos@ig.co...|iji*Bp0m(1|        1909-09-29|    RR|   2023-01-23|  78.243.210.49|     Magenta|          Gastrônomo|+55 (021) 3837 9360|\n",
      "|932.567.014-34|  caio40@hotmail.com|2UQ2p)5q@Y|        1986-01-31|    GO|   2023-01-22| 112.23.224.126|        Azul|           Flautista|+55 (081) 5756-7067|\n",
      "|723.419.058-97|  joana43@uol.com.br|vk7R1o#zI!|        1936-01-31|    RR|   2023-02-07|  23.153.28.160|        Azul|  Jogador De Futebol|      0900 150 4170|\n",
      "|517.264.980-85|ana-sophiajesus@b...|w9jTwVpj_r|        2018-01-04|    GO|   2023-01-10| 163.253.182.70|     Amarelo|  Jogador De Boliche|      0800-940-3789|\n",
      "|603.248.715-62|franciscoda-cunha...|h+7L0$mjaA|        1992-10-08|    RR|   2023-02-04|  26.166.234.56|       Cinza|             Regente|    (071) 8308 3783|\n",
      "|562.479.831-82|rezendelarissa@ho...|!6KVzmqd7L|        1985-08-24|    RR|   2023-02-23|    146.16.47.6| Azul Escuro|             Capitão|   +55 71 7296 7623|\n",
      "|382.475.016-35|lopesenzo@yahoo.c...|)4dExFybO5|        1961-09-16|    GO|   2023-01-04|115.205.238.140|     Amarelo|        Argumentista|+55 (021) 8133 3501|\n",
      "|124.387.069-96|pdas-neves@yahoo....|3^T9ePTK6w|        1970-11-05|    GO|   2023-02-13|    15.193.25.3| Azul Escuro|          Agricultor|    (071) 0735 9084|\n",
      "|916.872.450-02|renanmartins@bol....|&R0_tWXgAG|        2006-06-22|    GO|   2023-03-11|126.156.144.168|Verde Escuro|Profissional De C...|      0800-822-9241|\n",
      "|271.905.486-02|ana-vitoria77@hot...|I*Sm2Ozyi$|        2011-04-01|    RR|   2023-01-30|  124.57.122.33|     Amarelo|          Mãe Social|   +55 61 0561 0784|\n",
      "|624.093.875-00|maria-fernandacal...|G3(9eEjO+I|        1941-11-18|    RR|   2023-01-28| 153.235.212.60|     Laranja|     Guarda Roupeiro|       71 9618-5649|\n",
      "+--------------+--------------------+----------+------------------+------+-------------+---------------+------------+--------------------+-------------------+\n",
      "only showing top 20 rows\n",
      "\n"
     ]
    }
   ],
   "source": [
    "spark.sql('''\n",
    "    SELECT * \n",
    "    FROM {tabela}\n",
    "    WHERE estado IN ('RR', 'GO')\n",
    "''', tabela = logins).show()"
   ]
  },
  {
   "cell_type": "code",
   "execution_count": 9,
   "id": "6ac285b9-9307-457a-873d-dfaafb2ba124",
   "metadata": {},
   "outputs": [],
   "source": [
    "# 02 metódo\n",
    "tabela_sp = logins.where(F.col('estado') == 'SP')\n",
    "tabela_rj = logins.where(F.col('estado') == 'RJ')"
   ]
  },
  {
   "cell_type": "code",
   "execution_count": 10,
   "id": "11f32632-7002-43ed-9241-5250ac9c66c6",
   "metadata": {},
   "outputs": [
    {
     "name": "stderr",
     "output_type": "stream",
     "text": [
      "/home/casa/anaconda3/lib/python3.11/site-packages/pyspark/sql/dataframe.py:229: FutureWarning: Deprecated in 2.0, use createOrReplaceTempView instead.\n",
      "  warnings.warn(\"Deprecated in 2.0, use createOrReplaceTempView instead.\", FutureWarning)\n"
     ]
    }
   ],
   "source": [
    "tabela_sp.registerTempTable('tabela_sp')\n",
    "tabela_rj.registerTempTable('tabela_rj')"
   ]
  },
  {
   "cell_type": "code",
   "execution_count": 12,
   "id": "febe7ace-b79e-49df-b8b9-e71e1905fdad",
   "metadata": {},
   "outputs": [
    {
     "name": "stdout",
     "output_type": "stream",
     "text": [
      "+--------------+--------------------+----------+------------------+------+-------------+---------------+------------+--------------------+-------------------+\n",
      "|           cpf|               email|     senha|data_de_nascimento|estado|data_cadastro|           ipv4|cor_favorita|           profissao|           telefone|\n",
      "+--------------+--------------------+----------+------------------+------+-------------+---------------+------------+--------------------+-------------------+\n",
      "|573.619.804-57| hnogueira@ig.com.br|&9Ejtll$PF|        1949-03-06|    SP|   2023-01-27|168.162.247.252|       Cinza|Instalador De Lin...|    (031) 9148 3933|\n",
      "|734.801.926-96|pedro-miguel43@bo...|*72CCJdxX0|        1965-09-14|    SP|   2023-02-22| 222.145.189.67|        Roxo|               Coach|       51 9026 3441|\n",
      "|869.072.315-30|luiz-gustavorocha...|$62UN05c(9|        1980-10-19|    SP|   2023-01-04|  53.167.75.100| Verde Claro|Lactarista Hospit...|   +55 31 1296 8466|\n",
      "|291.358.407-14| lavinia54@ig.com.br|NyI@+8Kd!1|        1982-01-28|    SP|   2023-02-26|   79.132.46.55|       Preto|Profissional De R...|   +55 51 5526 8284|\n",
      "|460.125.983-51|  lazevedo@gmail.com|uC0O7QdE&B|        1972-07-14|    SP|   2023-01-24|221.155.104.128|       Preto|Atleta De Arremes...|   +55 71 9251-1645|\n",
      "|837.410.256-07|martinsmaysa@bol....|(Z8RNs%un6|        1972-08-21|    SP|   2023-02-24|157.119.230.252|       Cinza|       Laboratorista|+55 (084) 4945-6200|\n",
      "|730.184.526-07|    fviana@ig.com.br|1(3oLDln$8|        1938-10-23|    SP|   2023-03-02|  99.31.171.138|Verde Escuro|Profissional De I...|      0900-429-5628|\n",
      "|874.092.613-31|bruno71@yahoo.com.br|HF1FfNe5&H|        1946-11-25|    SP|   2023-03-03|   14.80.253.67|     Violeta|         Confeiteiro|    (084) 0687-3775|\n",
      "|490.372.518-97|castrocatarina@gm...|8hQ)9EiVZP|        1983-06-10|    SP|   2023-01-21|  5.188.180.112| Azul Escuro|        Epidemiólogo|       61 5994-2692|\n",
      "|914.528.630-24|da-cruzjoaquim@gm...|v#o7OgfF&4|        1951-01-03|    SP|   2023-01-01|  82.252.94.185|       Cinza|           Ombudsman|    (031) 4940-4068|\n",
      "|305.768.142-53|  ocorreia@ig.com.br|&w4EZmC4I&|        1987-11-01|    SP|   2023-01-21|  5.228.186.166|       Verde|Administrador Púb...|    (051) 9858-2959|\n",
      "|518.236.097-59|moraesgustavo-hen...|_%Xi0ZASk5|        1917-02-17|    SP|   2023-03-07|  130.120.64.80| Verde Claro|          Balconista|    (031) 6968 3473|\n",
      "|172.860.945-30|maria-vitoriasilv...|(92(Y+VmM!|        2007-09-01|    SP|   2023-01-05|  154.240.64.53|        Roxo|Caça-Talentos/Olh...|       51 2257 7179|\n",
      "|596.014.728-94| anogueira@gmail.com|3vKnjQq(^c|        1965-03-06|    SP|   2023-01-22|   208.2.27.239|     Amarelo|             Cadista|    (061) 3133 8356|\n",
      "|420.168.957-30|leonardo09@bol.co...|m)9GQD#GGa|        1979-03-01|    SP|   2023-03-10|  152.0.169.107|       Ciano|             Tosador|       71 8459 4427|\n",
      "|076.541.328-08|ycorreia@yahoo.co...|N6S1Xk0YD)|        2003-07-25|    SP|   2023-02-22|   108.16.1.197|     Magenta| Jogador De Handebol|   +55 71 9877-2831|\n",
      "|534.261.807-07| epinto@yahoo.com.br|1)Xx6G96ah|        2001-08-17|    SP|   2023-01-14|   27.25.142.17|     Amarelo| Engenheiro Agrônomo|      0900-777-1741|\n",
      "|072.658.934-92|maria-luiza28@bol...|XQO^*9Emhi|        1964-06-04|    SP|   2023-02-24|  61.60.243.221|     Amarelo|          Babysitter|   +55 84 8481-6437|\n",
      "|973.425.018-32|  gpereira@ig.com.br|fiCb^5Kk@7|        1923-01-01|    SP|   2023-01-23|  163.128.209.1|       Cinza|            Aeromoça|   +55 81 2459 0657|\n",
      "|890.712.456-67|  nmendes@bol.com.br|_$@JH@Mt$2|        1987-04-27|    SP|   2023-01-17|   27.20.197.16|       Preto| Comissário De Bordo|   +55 21 0100 7037|\n",
      "+--------------+--------------------+----------+------------------+------+-------------+---------------+------------+--------------------+-------------------+\n",
      "only showing top 20 rows\n",
      "\n"
     ]
    }
   ],
   "source": [
    "spark.sql(''' \n",
    "    SELECT *\n",
    "    FROM tabela_sp\n",
    "''').show()"
   ]
  },
  {
   "cell_type": "code",
   "execution_count": 16,
   "id": "6ba21204-ff5a-4b07-aad2-f3d662e5bcb3",
   "metadata": {},
   "outputs": [],
   "source": [
    "df2 = spark.sql(''' \n",
    "    SELECT * FROM tabela_sp WHERE email LIKE '%joao%'\n",
    "    UNION ALL\n",
    "    SELECT * FROM tabela_rj WHERE email LIKE '%joao%'\n",
    "''')"
   ]
  },
  {
   "cell_type": "code",
   "execution_count": 17,
   "id": "68d7520d-7d45-4c96-aa9b-0a5cc04f522a",
   "metadata": {},
   "outputs": [
    {
     "name": "stdout",
     "output_type": "stream",
     "text": [
      "+--------------+--------------------+----------+------------------+------+-------------+--------------+------------+--------------------+-------------------+\n",
      "|           cpf|               email|     senha|data_de_nascimento|estado|data_cadastro|          ipv4|cor_favorita|           profissao|           telefone|\n",
      "+--------------+--------------------+----------+------------------+------+-------------+--------------+------------+--------------------+-------------------+\n",
      "|902.674.815-94|joao-pedro29@ig.c...|O4X#3GBm#5|        2014-04-05|    SP|   2023-03-01|187.145.237.38|       Preto|Cancerologista Ou...|      0300-060-1608|\n",
      "|325.976.104-70|joao-miguel81@uol...|K*(3IXvn(F|        1955-12-25|    SP|   2023-03-07| 33.142.26.223|       Preto|          Costureira|    (021) 0345 9045|\n",
      "|109.526.374-99|joaogoncalves@hot...|@w8Y_Cx_f^|        1959-07-05|    SP|   2023-02-13| 85.12.230.202|        Rosa|Técnico Em Edific...|+55 (081) 3902 8321|\n",
      "|106.237.948-96|joao-vitormendes@...|@b8k2IVxWe|        1965-04-23|    RJ|   2023-01-08|  98.5.122.221|        Azul|Designer De Produ...|+55 (021) 5816-0977|\n",
      "+--------------+--------------------+----------+------------------+------+-------------+--------------+------------+--------------------+-------------------+\n",
      "\n"
     ]
    }
   ],
   "source": [
    "df2.show()"
   ]
  },
  {
   "cell_type": "code",
   "execution_count": 19,
   "id": "d8214218-579a-4e6f-a55f-688f8444f7a5",
   "metadata": {},
   "outputs": [
    {
     "name": "stdout",
     "output_type": "stream",
     "text": [
      "+--------------+--------------------+----------+------------------+------+-------------+-------------+------------+--------------------+-------------------+\n",
      "|           cpf|               email|     senha|data_de_nascimento|estado|data_cadastro|         ipv4|cor_favorita|           profissao|           telefone|\n",
      "+--------------+--------------------+----------+------------------+------+-------------+-------------+------------+--------------------+-------------------+\n",
      "|109.526.374-99|joaogoncalves@hot...|@w8Y_Cx_f^|        1959-07-05|    SP|   2023-02-13|85.12.230.202|        Rosa|Técnico Em Edific...|+55 (081) 3902 8321|\n",
      "+--------------+--------------------+----------+------------------+------+-------------+-------------+------------+--------------------+-------------------+\n",
      "\n"
     ]
    }
   ],
   "source": [
    "df2.where(F.col('cor_favorita').isin('Rosa')).show()"
   ]
  },
  {
   "cell_type": "code",
   "execution_count": null,
   "id": "1f2d873f-dbad-4c0f-a021-77e06197cfbf",
   "metadata": {},
   "outputs": [],
   "source": []
  }
 ],
 "metadata": {
  "kernelspec": {
   "display_name": "Python 3 (ipykernel)",
   "language": "python",
   "name": "python3"
  },
  "language_info": {
   "codemirror_mode": {
    "name": "ipython",
    "version": 3
   },
   "file_extension": ".py",
   "mimetype": "text/x-python",
   "name": "python",
   "nbconvert_exporter": "python",
   "pygments_lexer": "ipython3",
   "version": "3.11.7"
  }
 },
 "nbformat": 4,
 "nbformat_minor": 5
}
